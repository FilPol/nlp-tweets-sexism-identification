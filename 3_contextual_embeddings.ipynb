{
  "cells": [
    {
      "cell_type": "markdown",
      "metadata": {
        "id": "qHwgDNlCNzz0"
      },
      "source": [
        "# Contextual Word Embeddings for Text Representation"
      ]
    },
    {
      "cell_type": "markdown",
      "source": [
        "This notebook explores the use of contextual word embeddings for text representation in Natural Language Processing (NLP). It focuses on generating tweet embeddings using pre-trained transformer-based models such as BERT and RoBERTa for both English and Spanish corpora.\n",
        "\n",
        "The notebook includes steps for:\n",
        "* loading datasets\n",
        "* tokenizing text\n",
        "* computing embeddings using pre-trained models\n",
        "* preparing representations for downstream tasks like classification or semantic similarity analysis\n",
        "\n",
        "Implemented in Python with libraries such as Hugging Face's Transformers and Scikit-learn"
      ],
      "metadata": {
        "id": "6UZAh1KW3MzL"
      }
    },
    {
      "cell_type": "code",
      "execution_count": 1,
      "metadata": {
        "colab": {
          "base_uri": "https://localhost:8080/"
        },
        "id": "oa9W0tZCnHhD",
        "outputId": "0bfdb3d7-a504-41f1-82aa-da8100b3fd21",
        "scrolled": true
      },
      "outputs": [
        {
          "output_type": "stream",
          "name": "stdout",
          "text": [
            "Requirement already satisfied: transformers in /usr/local/lib/python3.11/dist-packages (4.49.0)\n",
            "Collecting transformers\n",
            "  Downloading transformers-4.50.0-py3-none-any.whl.metadata (39 kB)\n",
            "Requirement already satisfied: filelock in /usr/local/lib/python3.11/dist-packages (from transformers) (3.18.0)\n",
            "Requirement already satisfied: huggingface-hub<1.0,>=0.26.0 in /usr/local/lib/python3.11/dist-packages (from transformers) (0.29.3)\n",
            "Requirement already satisfied: numpy>=1.17 in /usr/local/lib/python3.11/dist-packages (from transformers) (2.0.2)\n",
            "Requirement already satisfied: packaging>=20.0 in /usr/local/lib/python3.11/dist-packages (from transformers) (24.2)\n",
            "Requirement already satisfied: pyyaml>=5.1 in /usr/local/lib/python3.11/dist-packages (from transformers) (6.0.2)\n",
            "Requirement already satisfied: regex!=2019.12.17 in /usr/local/lib/python3.11/dist-packages (from transformers) (2024.11.6)\n",
            "Requirement already satisfied: requests in /usr/local/lib/python3.11/dist-packages (from transformers) (2.32.3)\n",
            "Requirement already satisfied: tokenizers<0.22,>=0.21 in /usr/local/lib/python3.11/dist-packages (from transformers) (0.21.1)\n",
            "Requirement already satisfied: safetensors>=0.4.3 in /usr/local/lib/python3.11/dist-packages (from transformers) (0.5.3)\n",
            "Requirement already satisfied: tqdm>=4.27 in /usr/local/lib/python3.11/dist-packages (from transformers) (4.67.1)\n",
            "Requirement already satisfied: fsspec>=2023.5.0 in /usr/local/lib/python3.11/dist-packages (from huggingface-hub<1.0,>=0.26.0->transformers) (2025.3.0)\n",
            "Requirement already satisfied: typing-extensions>=3.7.4.3 in /usr/local/lib/python3.11/dist-packages (from huggingface-hub<1.0,>=0.26.0->transformers) (4.12.2)\n",
            "Requirement already satisfied: charset-normalizer<4,>=2 in /usr/local/lib/python3.11/dist-packages (from requests->transformers) (3.4.1)\n",
            "Requirement already satisfied: idna<4,>=2.5 in /usr/local/lib/python3.11/dist-packages (from requests->transformers) (3.10)\n",
            "Requirement already satisfied: urllib3<3,>=1.21.1 in /usr/local/lib/python3.11/dist-packages (from requests->transformers) (2.3.0)\n",
            "Requirement already satisfied: certifi>=2017.4.17 in /usr/local/lib/python3.11/dist-packages (from requests->transformers) (2025.1.31)\n",
            "Downloading transformers-4.50.0-py3-none-any.whl (10.2 MB)\n",
            "\u001b[2K   \u001b[90m━━━━━━━━━━━━━━━━━━━━━━━━━━━━━━━━━━━━━━━━\u001b[0m \u001b[32m10.2/10.2 MB\u001b[0m \u001b[31m44.4 MB/s\u001b[0m eta \u001b[36m0:00:00\u001b[0m\n",
            "\u001b[?25hInstalling collected packages: transformers\n",
            "  Attempting uninstall: transformers\n",
            "    Found existing installation: transformers 4.49.0\n",
            "    Uninstalling transformers-4.49.0:\n",
            "      Successfully uninstalled transformers-4.49.0\n",
            "Successfully installed transformers-4.50.0\n",
            "Collecting emoji\n",
            "  Downloading emoji-2.14.1-py3-none-any.whl.metadata (5.7 kB)\n",
            "Downloading emoji-2.14.1-py3-none-any.whl (590 kB)\n",
            "\u001b[2K   \u001b[90m━━━━━━━━━━━━━━━━━━━━━━━━━━━━━━━━━━━━━━━━\u001b[0m \u001b[32m590.6/590.6 kB\u001b[0m \u001b[31m12.2 MB/s\u001b[0m eta \u001b[36m0:00:00\u001b[0m\n",
            "\u001b[?25hInstalling collected packages: emoji\n",
            "Successfully installed emoji-2.14.1\n",
            "Requirement already satisfied: ipywidgets in /usr/local/lib/python3.11/dist-packages (7.7.1)\n",
            "Collecting ipywidgets\n",
            "  Downloading ipywidgets-8.1.5-py3-none-any.whl.metadata (2.3 kB)\n",
            "Collecting comm>=0.1.3 (from ipywidgets)\n",
            "  Downloading comm-0.2.2-py3-none-any.whl.metadata (3.7 kB)\n",
            "Requirement already satisfied: ipython>=6.1.0 in /usr/local/lib/python3.11/dist-packages (from ipywidgets) (7.34.0)\n",
            "Requirement already satisfied: traitlets>=4.3.1 in /usr/local/lib/python3.11/dist-packages (from ipywidgets) (5.7.1)\n",
            "Collecting widgetsnbextension~=4.0.12 (from ipywidgets)\n",
            "  Downloading widgetsnbextension-4.0.13-py3-none-any.whl.metadata (1.6 kB)\n",
            "Requirement already satisfied: jupyterlab-widgets~=3.0.12 in /usr/local/lib/python3.11/dist-packages (from ipywidgets) (3.0.13)\n",
            "Requirement already satisfied: setuptools>=18.5 in /usr/local/lib/python3.11/dist-packages (from ipython>=6.1.0->ipywidgets) (75.1.0)\n",
            "Collecting jedi>=0.16 (from ipython>=6.1.0->ipywidgets)\n",
            "  Downloading jedi-0.19.2-py2.py3-none-any.whl.metadata (22 kB)\n",
            "Requirement already satisfied: decorator in /usr/local/lib/python3.11/dist-packages (from ipython>=6.1.0->ipywidgets) (4.4.2)\n",
            "Requirement already satisfied: pickleshare in /usr/local/lib/python3.11/dist-packages (from ipython>=6.1.0->ipywidgets) (0.7.5)\n",
            "Requirement already satisfied: prompt-toolkit!=3.0.0,!=3.0.1,<3.1.0,>=2.0.0 in /usr/local/lib/python3.11/dist-packages (from ipython>=6.1.0->ipywidgets) (3.0.50)\n",
            "Requirement already satisfied: pygments in /usr/local/lib/python3.11/dist-packages (from ipython>=6.1.0->ipywidgets) (2.18.0)\n",
            "Requirement already satisfied: backcall in /usr/local/lib/python3.11/dist-packages (from ipython>=6.1.0->ipywidgets) (0.2.0)\n",
            "Requirement already satisfied: matplotlib-inline in /usr/local/lib/python3.11/dist-packages (from ipython>=6.1.0->ipywidgets) (0.1.7)\n",
            "Requirement already satisfied: pexpect>4.3 in /usr/local/lib/python3.11/dist-packages (from ipython>=6.1.0->ipywidgets) (4.9.0)\n",
            "Requirement already satisfied: parso<0.9.0,>=0.8.4 in /usr/local/lib/python3.11/dist-packages (from jedi>=0.16->ipython>=6.1.0->ipywidgets) (0.8.4)\n",
            "Requirement already satisfied: ptyprocess>=0.5 in /usr/local/lib/python3.11/dist-packages (from pexpect>4.3->ipython>=6.1.0->ipywidgets) (0.7.0)\n",
            "Requirement already satisfied: wcwidth in /usr/local/lib/python3.11/dist-packages (from prompt-toolkit!=3.0.0,!=3.0.1,<3.1.0,>=2.0.0->ipython>=6.1.0->ipywidgets) (0.2.13)\n",
            "Downloading ipywidgets-8.1.5-py3-none-any.whl (139 kB)\n",
            "\u001b[2K   \u001b[90m━━━━━━━━━━━━━━━━━━━━━━━━━━━━━━━━━━━━━━━━\u001b[0m \u001b[32m139.8/139.8 kB\u001b[0m \u001b[31m1.6 MB/s\u001b[0m eta \u001b[36m0:00:00\u001b[0m\n",
            "\u001b[?25hDownloading comm-0.2.2-py3-none-any.whl (7.2 kB)\n",
            "Downloading widgetsnbextension-4.0.13-py3-none-any.whl (2.3 MB)\n",
            "\u001b[2K   \u001b[90m━━━━━━━━━━━━━━━━━━━━━━━━━━━━━━━━━━━━━━━━\u001b[0m \u001b[32m2.3/2.3 MB\u001b[0m \u001b[31m35.0 MB/s\u001b[0m eta \u001b[36m0:00:00\u001b[0m\n",
            "\u001b[?25hDownloading jedi-0.19.2-py2.py3-none-any.whl (1.6 MB)\n",
            "\u001b[2K   \u001b[90m━━━━━━━━━━━━━━━━━━━━━━━━━━━━━━━━━━━━━━━━\u001b[0m \u001b[32m1.6/1.6 MB\u001b[0m \u001b[31m42.4 MB/s\u001b[0m eta \u001b[36m0:00:00\u001b[0m\n",
            "\u001b[?25hInstalling collected packages: widgetsnbextension, jedi, comm, ipywidgets\n",
            "  Attempting uninstall: widgetsnbextension\n",
            "    Found existing installation: widgetsnbextension 3.6.10\n",
            "    Uninstalling widgetsnbextension-3.6.10:\n",
            "      Successfully uninstalled widgetsnbextension-3.6.10\n",
            "  Attempting uninstall: ipywidgets\n",
            "    Found existing installation: ipywidgets 7.7.1\n",
            "    Uninstalling ipywidgets-7.7.1:\n",
            "      Successfully uninstalled ipywidgets-7.7.1\n",
            "Successfully installed comm-0.2.2 ipywidgets-8.1.5 jedi-0.19.2 widgetsnbextension-4.0.13\n"
          ]
        }
      ],
      "source": [
        "!pip install -U transformers\n",
        "!pip install -U emoji\n",
        "!pip install -U ipywidgets"
      ]
    },
    {
      "cell_type": "markdown",
      "metadata": {
        "id": "IP__0WbQNzz4"
      },
      "source": [
        "## Some libraries"
      ]
    },
    {
      "cell_type": "code",
      "execution_count": 2,
      "metadata": {
        "id": "nQIB_2aaNzz6"
      },
      "outputs": [],
      "source": [
        "import pandas as pd\n",
        "import torch\n",
        "from transformers import AutoModel, AutoTokenizer\n",
        "from transformers import BertTokenizer, BertModel, RobertaTokenizer, RobertaModel\n",
        "from sklearn.metrics.pairwise import cosine_similarity\n",
        "import numpy as np"
      ]
    },
    {
      "cell_type": "markdown",
      "metadata": {
        "id": "DQWFoJNTNzz6"
      },
      "source": [
        "## Read the corpora"
      ]
    },
    {
      "cell_type": "code",
      "execution_count": 3,
      "metadata": {
        "colab": {
          "base_uri": "https://localhost:8080/"
        },
        "id": "y8mpQG_6Nzz6",
        "outputId": "0eb06a48-9e47-4aab-d9a1-d05c187d4e7d"
      },
      "outputs": [
        {
          "output_type": "stream",
          "name": "stdout",
          "text": [
            "Mounted at /content/drive\n"
          ]
        }
      ],
      "source": [
        "# filepath = {\n",
        "#     \"english\": \"EXIST2024_EN_examples_mini.csv\",\n",
        "#     \"spanish\": \"EXIST2024_ES_examples_mini.csv\"\n",
        "# }\n",
        "# df = {k: pd.read_csv(v, sep=\"\\t\") for k, v in filepath.items()}\n",
        "\n",
        "from google.colab import drive\n",
        "drive.mount('/content/drive')\n"
      ]
    },
    {
      "cell_type": "code",
      "source": [
        "df = {\n",
        "   \"english\": pd.read_csv(\"/content/drive/MyDrive/EXIST2024_EN_examples_mini.csv\", sep=\"\\t\"),\n",
        "   \"spanish\": pd.read_csv(\"/content/drive/MyDrive/EXIST2024_ES_examples_mini.csv\", sep=\"\\t\")\n",
        "}"
      ],
      "metadata": {
        "colab": {
          "base_uri": "https://localhost:8080/"
        },
        "id": "lpPmjGsvPy_0",
        "outputId": "395e5bbc-9496-44fb-d7da-64c43625b40f"
      },
      "execution_count": 4,
      "outputs": [
        {
          "output_type": "stream",
          "name": "stdout",
          "text": [
            "<class 'str'>\n"
          ]
        }
      ]
    },
    {
      "cell_type": "code",
      "execution_count": 5,
      "metadata": {
        "id": "3A_p1_-eNzz6"
      },
      "outputs": [],
      "source": [
        "modelnames = {\n",
        "    \"english\": [\"bert-base-uncased\", \"roberta-base\"],\n",
        "    \"spanish\": [\"dccuchile/bert-base-spanish-wwm-uncased\", \"PlanTL-GOB-ES/roberta-base-bne\"]\n",
        "}"
      ]
    },
    {
      "cell_type": "code",
      "execution_count": 6,
      "metadata": {
        "colab": {
          "base_uri": "https://localhost:8080/"
        },
        "id": "hQtTW0mrNzz8",
        "outputId": "1e58549a-82aa-41dc-f5da-97f49e4f64c9"
      },
      "outputs": [
        {
          "output_type": "stream",
          "name": "stdout",
          "text": [
            "cuda\n"
          ]
        }
      ],
      "source": [
        "if torch.backends.mps.is_available():  # Mac M? GPU\n",
        "    device = torch.device(\"mps\")\n",
        "elif torch.cuda.is_available():  # Nvidia GPU\n",
        "    device = torch.device(\"cuda\")\n",
        "else:  # CPU\n",
        "    device = torch.device(\"cpu\")\n",
        "print(device)"
      ]
    },
    {
      "cell_type": "markdown",
      "metadata": {
        "id": "8N673GX0Nzz-"
      },
      "source": [
        "## Compute tweets representations"
      ]
    },
    {
      "cell_type": "code",
      "execution_count": 13,
      "metadata": {
        "colab": {
          "base_uri": "https://localhost:8080/"
        },
        "id": "UGVrHMLDNzz-",
        "outputId": "02e3d5db-46eb-4550-b6e2-f9551768da17"
      },
      "outputs": [
        {
          "output_type": "stream",
          "name": "stdout",
          "text": [
            "Model: bert-base-uncased, torch.Size([748, 768])\n",
            "Model: roberta-base, torch.Size([748, 768])\n",
            "Model: dccuchile/bert-base-spanish-wwm-uncased, torch.Size([702, 768])\n",
            "Model: PlanTL-GOB-ES/roberta-base-bne, torch.Size([702, 768])\n"
          ]
        }
      ],
      "source": [
        "import warnings\n",
        "warnings.filterwarnings(\"ignore\", category=UserWarning, module=\"huggingface_hub.utils._auth\")\n",
        "\n",
        "batch_size = 16\n",
        "def get_embeds(tokenizer, model, model_name, text):\n",
        "    tensor_list=[]\n",
        "    for i in range(0, len(text), batch_size):\n",
        "        batch = text[i:i+batch_size]\n",
        "\n",
        "        input = tokenizer(batch, padding=\"max_length\", max_length = 100, truncation=True, return_tensors=\"pt\")\n",
        "        model.eval()\n",
        "        model.to(device)\n",
        "        input = input.to(device)\n",
        "        with torch.no_grad():\n",
        "          outputs = model(**input)\n",
        "          encoded_layers = outputs[0]\n",
        "          cls_vector = encoded_layers[:,0,:]\n",
        "\n",
        "        tensor_list.append(cls_vector)\n",
        "    cls_vector = torch.cat(tensor_list).cpu()\n",
        "    print(f\"Model: {model_name}, {cls_vector.size()}\")\n",
        "    return cls_vector\n",
        "\n",
        "transformers.logging.set_verbosity_error()\n",
        "data = []\n",
        "for lang in [\"english\",\"spanish\"]:\n",
        "    for model_name in modelnames[lang]:\n",
        "      tokenizer = AutoTokenizer.from_pretrained(model_name)\n",
        "      model = AutoModel.from_pretrained(model_name)\n",
        "      text = [df[lang]['text'][i] for i in range(len(df[lang]))]\n",
        "\n",
        "\n",
        "      embed = get_embeds(tokenizer, model, model_name, text)\n",
        "      data.append((embed, model_name, lang))"
      ]
    },
    {
      "cell_type": "markdown",
      "metadata": {
        "id": "hB8ype-ONzz-"
      },
      "source": [
        "## Compute cosine similarities"
      ]
    },
    {
      "cell_type": "code",
      "execution_count": 9,
      "metadata": {
        "id": "FqVhC0DmNzz_"
      },
      "outputs": [],
      "source": [
        "def find_closest_similarity(model_embed, tweets, is_sexist):\n",
        "  similarity = np.round(cosine_similarity(model_embed, model_embed), 4)\n",
        "\n",
        "  tri_upper_indices = np.triu_indices_from(similarity, k=1)\n",
        "  max_index = np.argmax(similarity[tri_upper_indices])\n",
        "  tweet_idx1, tweet_idx2 = tri_upper_indices[0][max_index], tri_upper_indices[1][max_index]\n",
        "\n",
        "  label = \"Yes\" if is_sexist else \"NO\"\n",
        "  print(f\"label: {label}\\n sentence1: {tweets.iloc[tweet_idx1]['text']} \\n --------------------\")\n",
        "  print(f\"sentence2: {tweets.iloc[tweet_idx2]['text']} \\n distance: {similarity[tweet_idx1, tweet_idx2]:.4f}\\n\")\n"
      ]
    },
    {
      "cell_type": "markdown",
      "metadata": {
        "id": "vbEPnr2_Nzz_"
      },
      "source": [
        "## Show results"
      ]
    },
    {
      "cell_type": "code",
      "execution_count": 12,
      "metadata": {
        "colab": {
          "base_uri": "https://localhost:8080/"
        },
        "id": "IwPlvDpxNzz_",
        "outputId": "b485b9ee-cdf7-4d96-ac9e-0ddb297ed8c7"
      },
      "outputs": [
        {
          "output_type": "stream",
          "name": "stdout",
          "text": [
            "bert-base-uncased\n",
            "# =======================================n\n",
            "label: NO\n",
            " sentence1: I still wish they turned this into a boss fight. https://t.co/HyvPYJPHJc \n",
            " --------------------\n",
            "sentence2: I don't particularly care or want to know about the cock carousel. Everyone has a past. https://t.co/73WMTyEKHt \n",
            " distance: 0.9739\n",
            "\n",
            "label: Yes\n",
            " sentence1: The mighty ass. Call me sexist I do not care. https://t.co/LzXw4iRbLR \n",
            " --------------------\n",
            "sentence2: @RP_JetBlack Not shaming you at all! I too am a massive slut and a total cock tease. https://t.co/HbZiZXRi0N \n",
            " distance: 0.9774\n",
            "\n",
            "roberta-base\n",
            "# =======================================n\n",
            "label: NO\n",
            " sentence1: Thank you beautiful friend 😊Sending love and 🕯️🚨 light your way 💓 https://t.co/EbPpAKWqjo https://t.co/n3MDADAH7N \n",
            " --------------------\n",
            "sentence2: Have a lovely day beautiful sunshine 🌞 ❤️♥️💜🔥🔥🔥🔥🔥🔥🐎 https://t.co/w4yoltPn6z https://t.co/qDf358MMsH \n",
            " distance: 0.9992\n",
            "\n",
            "label: Yes\n",
            " sentence1: @lkmeenha we can’t even have a day without women making it about themselves 🙄 \n",
            " --------------------\n",
            "sentence2: @BigDILF01 Can’t go a day without women womening \n",
            " distance: 0.9990\n",
            "\n",
            "dccuchile/bert-base-spanish-wwm-uncased\n",
            "# =======================================n\n",
            "label: NO\n",
            " sentence1: @kenmayonesa @rindin_twt No, ella no es cub, pasa que en ese copy dice, “lo buscas en Google” y cuando buscas Woojin en Google, sale todo eso de el acoso y los rumores. Sé que no es malintencionado, pero un poco más de cuidado. ❤️ https://t.co/GnOh0tR48m \n",
            " --------------------\n",
            "sentence2: Derrotados en forma pacífica, en las urnas, buscan desestabilizar.Les urge impedir la transformación de México, les urge recuperar el poder y sus privilegios.No respetan las reglas ni los tiempos de la democracia.Con ciberacoso intentan callarnos.#NiPerdonNiOlvido https://t.co/mM2yhT88wI \n",
            " distance: 0.9222\n",
            "\n",
            "label: Yes\n",
            " sentence1: @todomuycansao Madre miaaaaaa... (esto es un micromachismo?) https://t.co/jo66Ppk5le \n",
            " --------------------\n",
            "sentence2: Pero que mamada acabo de leer??  🤣🤣🤣🤣 y yo pensando que el amor romántico tenía como base la idealización de la pareja y ahora resulta que todo es culpa de los blancos normales heteropatrialcales🤣🤣🤣🤣 https://t.co/4iTab2OiVM \n",
            " distance: 0.9153\n",
            "\n",
            "PlanTL-GOB-ES/roberta-base-bne\n",
            "# =======================================n\n",
            "label: NO\n",
            " sentence1: el ciberacoso existe  lamentablemente y uno a veces es testigo de la cloaca de odio que son las redes sociales (sobre todo Twitter) https://t.co/BdS7rrnlVv \n",
            " --------------------\n",
            "sentence2: Honestamente esa persona debería disculparse y apoyar a evitar el ciberacoso. https://t.co/jxTa869zmw \n",
            " distance: 0.9912\n",
            "\n",
            "label: Yes\n",
            " sentence1: Qué están haciendo las empresas para acortar la brecha de género https://t.co/a3I8MGGqsq \n",
            " --------------------\n",
            "sentence2: Las empresas deben asumir su responsabilidad en la brecha digital de género https://t.co/SDUnslDLtO \n",
            " distance: 0.9953\n",
            "\n"
          ]
        }
      ],
      "source": [
        "def show_results(tweets, name, model_embed):\n",
        "  tweets_nonsexist = tweets[tweets[\"label\"] == \"NO\"].reset_index(drop=True)\n",
        "  tweets_sexist = tweets[tweets[\"label\"] == \"YES\"].reset_index(drop=True)\n",
        "\n",
        "  embeds_sexist = np.array([model_embed[i] for i in tweets[tweets[\"label\"] == \"YES\"].index.to_list()])\n",
        "  embeds_nonsexist = np.array([model_embed[i] for i in tweets[tweets[\"label\"] == \"NO\"].index.to_list()])\n",
        "\n",
        "  print(f\"{name}\\n# =======================================n\")\n",
        "  for tweets, is_sexist, embeddings in [(tweets_nonsexist, False, embeds_nonsexist), (tweets_sexist, True, embeds_sexist)]:\n",
        "      find_closest_similarity(embeddings, tweets, is_sexist)\n",
        "\n",
        "spanish_data = df[\"spanish\"]\n",
        "english_data = df[\"english\"]\n",
        "\n",
        "for embed, model_name, lang in data:\n",
        "      show_results(df[lang], model_name, embed)"
      ]
    }
  ],
  "metadata": {
    "accelerator": "GPU",
    "colab": {
      "gpuType": "T4",
      "provenance": []
    },
    "kernelspec": {
      "display_name": "Python 3 (ipykernel)",
      "language": "python",
      "name": "python3"
    },
    "language_info": {
      "codemirror_mode": {
        "name": "ipython",
        "version": 3
      },
      "file_extension": ".py",
      "mimetype": "text/x-python",
      "name": "python",
      "nbconvert_exporter": "python",
      "pygments_lexer": "ipython3",
      "version": "3.10.9"
    }
  },
  "nbformat": 4,
  "nbformat_minor": 0
}