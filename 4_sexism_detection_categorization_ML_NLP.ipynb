{
  "cells": [
    {
      "cell_type": "markdown",
      "metadata": {
        "id": "UJDIGCUGi1Mr"
      },
      "source": [
        "#  Sexism Detection and Categorization in Tweets Using Machine Learning and NLP"
      ]
    },
    {
      "cell_type": "markdown",
      "metadata": {
        "id": "r4e6q-bDi1Mz"
      },
      "source": [
        "This project aims to detect sexism in tweets and classify it into specific categories using machine learning models and NLP techniques. The task is divided into two subtasks:\n",
        "\n",
        "* Sexism Detection – Identifying whether a tweet contains sexist content.\n",
        "\n",
        "* Sexism Categorization – Classifying detected sexism into four categories: 'JUDGEMENTAL', 'REPORTED', 'DIRECT', and 'UNKNOWN'.\n",
        "\n",
        "It compares:\n",
        "* TF-IDF-based LSA\n",
        "* RoBERTa contextual embeddings\n",
        "\n",
        "as feature extraction methods. Three classifiers:\n",
        "* Logistic Regression\n",
        "* Decision Trees,\n",
        "* MLP\n",
        "\n",
        "are trained and evaluated to identify sexist content. The dataset consists of English and Spanish tweets labeled for different levels of sexism."
      ]
    },
    {
      "cell_type": "code",
      "execution_count": null,
      "metadata": {
        "colab": {
          "base_uri": "https://localhost:8080/"
        },
        "id": "Uexir0NmwwBi",
        "outputId": "7ab01ec9-3773-4193-eb79-894e589a1f39"
      },
      "outputs": [
        {
          "output_type": "stream",
          "name": "stdout",
          "text": [
            "Mounted at /content/drive\n"
          ]
        }
      ],
      "source": [
        "from google.colab import drive\n",
        "drive.mount('/content/drive')\n"
      ]
    },
    {
      "cell_type": "code",
      "execution_count": 68,
      "metadata": {
        "id": "mwOU1bBcNDG9",
        "colab": {
          "base_uri": "https://localhost:8080/"
        },
        "outputId": "e8360864-7a1b-417e-83fb-59461f02f303"
      },
      "outputs": [
        {
          "output_type": "stream",
          "name": "stderr",
          "text": [
            "[nltk_data] Downloading package stopwords to /root/nltk_data...\n",
            "[nltk_data]   Package stopwords is already up-to-date!\n"
          ]
        }
      ],
      "source": [
        "import pandas as pd\n",
        "import torch\n",
        "from transformers import AutoModel, AutoTokenizer\n",
        "from transformers import RobertaTokenizer, RobertaModel\n",
        "from sklearn.metrics.pairwise import cosine_similarity\n",
        "import numpy as np\n",
        "from sklearn.feature_extraction.text import TfidfVectorizer\n",
        "from sklearn.decomposition import TruncatedSVD\n",
        "\n",
        "from sklearn.tree import DecisionTreeClassifier\n",
        "from sklearn.metrics import f1_score, classification_report\n",
        "\n",
        "from sklearn.linear_model import LogisticRegression\n",
        "from sklearn.metrics import f1_score, classification_report\n",
        "\n",
        "from sklearn.neural_network import MLPClassifier\n",
        "from sklearn.metrics import f1_score, classification_report\n",
        "\n",
        "import nltk\n",
        "from nltk.corpus import stopwords\n",
        "\n",
        "nltk.download('stopwords')\n",
        "spanish_stopwords = stopwords.words('spanish')"
      ]
    },
    {
      "cell_type": "code",
      "execution_count": null,
      "metadata": {
        "id": "hDZQex2oJYzk"
      },
      "outputs": [],
      "source": [
        "import sys\n",
        "sys.path.append('/content/drive/MyDrive')\n",
        "\n",
        "\n",
        "from readerEXIST2025 import EXISTReader\n",
        "\n",
        "# reader_train = EXISTReader(\"EXIST2025_training.json\")\n",
        "# reader_dev = EXISTReader(\"EXIST2025_dev.json\")\n",
        "reader_train = EXISTReader(\"drive/MyDrive/EXIST2025_training.json\")\n",
        "reader_dev = EXISTReader(\"drive/MyDrive/EXIST2025_dev.json\")\n",
        "\n",
        "EnTrainTask1, EnDevTask1 = reader_train.get(lang=\"EN\", subtask=\"1\"), reader_dev.get(lang=\"EN\", subtask=\"1\")\n",
        "EnTrainTask2, EnDevTask2 = reader_train.get(lang=\"EN\", subtask=\"2\"), reader_dev.get(lang=\"EN\", subtask=\"2\")\n",
        "\n",
        "SpTrainTask1, SpDevTask1 = reader_train.get(lang=\"ES\", subtask=\"1\"), reader_dev.get(lang=\"ES\", subtask=\"1\")\n",
        "SpTrainTask2, SpDevTask2 = reader_train.get(lang=\"ES\", subtask=\"2\"), reader_dev.get(lang=\"ES\", subtask=\"2\")\n"
      ]
    },
    {
      "cell_type": "markdown",
      "metadata": {
        "id": "OVo9sG1zi1M6"
      },
      "source": [
        "# ENGLISH"
      ]
    },
    {
      "cell_type": "markdown",
      "metadata": {
        "id": "u79pF-iWi1M7"
      },
      "source": [
        "## Preprocessing"
      ]
    },
    {
      "cell_type": "code",
      "execution_count": null,
      "metadata": {
        "id": "M0NHgFNpi1M9"
      },
      "outputs": [],
      "source": [
        "import re\n",
        "web_re = re.compile(r\"https?:\\/\\/[^\\s]+\", re.U)\n",
        "user_re = re.compile(r\"(@\\w+\\-?(?:\\w+)?)\", re.U)\n",
        "hashtag_re = re.compile(r\"(#\\w+\\-?(?:\\w+)?)\", re.U)\n",
        "\n",
        "mapLabelToId = {\"task1\": {'NO': 0, 'YES': 1, \"AMBIGUOUS\": 2},\n",
        "                \"task2\": {'-': 4, 'JUDGEMENTAL': 0, 'REPORTED': 1, 'DIRECT': 2, 'UNKNOWN': 3, \"AMBIGUOUS\": 5},\n",
        "                \"task3\": {'OBJECTIFICATION': 0, 'STEREOTYPING-DOMINANCE': 1, 'MISOGYNY-NON-SEXUAL-VIOLENCE': 2,\n",
        "                          'IDEOLOGICAL-INEQUALITY': 3, 'SEXUAL-VIOLENCE': 4, 'UNKNOWN': 5, '-': 6,\n",
        "                          \"AMBIGUOUS\": 7}}\n",
        "\n",
        "mapIdToLabel = {\"task1\": {0: 'NO', 1: 'YES', 2: \"AMBIGUOUS\"},\n",
        "                \"task2\": {4: '-', 0: 'JUDGEMENTAL', 1: 'REPORTED', 2: 'DIRECT', 3: 'UNKNOWN', 4: \"AMBIGUOUS\"},\n",
        "                \"task3\": {0: 'OBJECTIFICATION', 1: 'STEREOTYPING-DOMINANCE', 2: 'MISOGYNY-NON-SEXUAL-VIOLENCE',\n",
        "                          3: 'IDEOLOGICAL-INEQUALITY', 4: 'SEXUAL-VIOLENCE', 5: 'UNKNOWN', 6: '-',\n",
        "                          7: \"AMBIGUOUS\"}}\n",
        "\n",
        "\n",
        "def standard_preprocession(text):\n",
        "    text = web_re.sub(\"\", text)\n",
        "    text = user_re.sub(\"\", text)\n",
        "    text = hashtag_re.sub(\"\", text)\n",
        "    text = text.lower()\n",
        "\n",
        "    return text\n",
        "\n",
        "\n",
        "def no_preprocession(text):\n",
        "    return text\n",
        "\n",
        "def unpack(data, task):\n",
        "    id,text, label = data\n",
        "    id = [id.iloc[i] for i in range(len(id))]\n",
        "    sptext = [standard_preprocession(text.iloc[i]) for i in range(len(text))]\n",
        "\n",
        "    label = [mapLabelToId[task][label.iloc[i]] for i in range(len(label))]\n",
        "\n",
        "    return {\"id\": id, \"sptext\": sptext, \"label\": label}"
      ]
    },
    {
      "cell_type": "markdown",
      "metadata": {
        "id": "IGUjwyJHi1M_"
      },
      "source": [
        "## Tweet representations (Feature extraction)"
      ]
    },
    {
      "cell_type": "code",
      "execution_count": null,
      "metadata": {
        "colab": {
          "base_uri": "https://localhost:8080/"
        },
        "id": "0as7P7dAi1NA",
        "outputId": "64bd50ed-e41a-4b0b-c16a-b1b60ec26766"
      },
      "outputs": [
        {
          "output_type": "stream",
          "name": "stdout",
          "text": [
            "cpu\n"
          ]
        }
      ],
      "source": [
        "# Obtaining a representation for the train and dev subsets in both tasks\n",
        "if torch.backends.mps.is_available():  # Mac M? GPU\n",
        "    device = torch.device(\"mps\")\n",
        "elif torch.cuda.is_available():  # Nvidia GPU\n",
        "    device = torch.device(\"cuda\")\n",
        "else:  # CPU\n",
        "    device = torch.device(\"cpu\")\n",
        "print(device)\n"
      ]
    },
    {
      "cell_type": "code",
      "execution_count": 74,
      "metadata": {
        "id": "UBEQHaF-jzO_"
      },
      "outputs": [],
      "source": [
        "def get_contextual_embeddings(text, model_name):\n",
        "    batch_size = 16\n",
        "    tokenizer = AutoTokenizer.from_pretrained(model_name) #\"roberta-base\"\n",
        "    model = AutoModel.from_pretrained(model_name)\n",
        "\n",
        "    tensor_list=[]\n",
        "    for i in range(0, len(text), batch_size):\n",
        "        batch = text[i:i+batch_size]\n",
        "\n",
        "        input = tokenizer(batch, padding=\"max_length\", max_length = 100, truncation=True, return_tensors=\"pt\")\n",
        "        model.eval()\n",
        "        model.to(device)\n",
        "        input = input.to(device)\n",
        "        with torch.no_grad():\n",
        "          outputs = model(**input)\n",
        "          encoded_layers = outputs[0]\n",
        "          cls_vector = encoded_layers[:,0,:]\n",
        "\n",
        "        tensor_list.append(cls_vector)\n",
        "    cls_vector = torch.cat(tensor_list).cpu()\n",
        "    return cls_vector\n",
        "\n",
        "\n",
        "# LSA based on TF-IDF of words (100 singular values)\n",
        "def LSA_TF_IDF_repre(data, model_name, lang):\n",
        "    if lang == \"english\":\n",
        "        stop_words = \"english\"\n",
        "    elif lang == \"spanish\":\n",
        "        stop_words = stopwords.words(\"spanish\")\n",
        "    else:\n",
        "        stop_words = None\n",
        "\n",
        "    tfidf_vectorizer = TfidfVectorizer(stop_words = stop_words, binary=False, use_idf=True, preprocessor=None)\n",
        "    tfidf_matrix = tfidf_vectorizer.fit_transform(data)\n",
        "\n",
        "    num_features = tfidf_matrix.shape[1]\n",
        "    n_components = min(100, num_features)\n",
        "\n",
        "    svd = TruncatedSVD(n_components=n_components)\n",
        "    svd_matrix = svd.fit_transform(tfidf_matrix)\n",
        "\n",
        "    return svd_matrix"
      ]
    },
    {
      "cell_type": "code",
      "execution_count": 62,
      "metadata": {
        "id": "eUPHvK1-X_Ge"
      },
      "outputs": [],
      "source": [
        "def get_repre(train, test, method, model_name, task, lang, sample_size = -1):\n",
        "    train_data1 = unpack(train, task)\n",
        "    test_data1 = unpack(test, task)\n",
        "\n",
        "    if sample_size != -1:\n",
        "      for data in [train_data1, test_data1]:\n",
        "          for key, valie in data.items():\n",
        "            data[key] = data[key][:sample_size]\n",
        "\n",
        "    train_data1[\"repre\"] = method(train_data1[\"sptext\"], model_name, lang)\n",
        "    test_data1[\"repre\"] = method(test_data1[\"sptext\"], model_name, lang)\n",
        "\n",
        "    return train_data1, test_data1"
      ]
    },
    {
      "cell_type": "code",
      "execution_count": null,
      "metadata": {
        "colab": {
          "base_uri": "https://localhost:8080/"
        },
        "id": "OkIgiHRPn3wi",
        "outputId": "486b16e2-f66c-43cf-b669-3e78b367d6d2"
      },
      "outputs": [
        {
          "output_type": "stream",
          "name": "stderr",
          "text": [
            "Some weights of RobertaModel were not initialized from the model checkpoint at roberta-base and are newly initialized: ['roberta.pooler.dense.bias', 'roberta.pooler.dense.weight']\n",
            "You should probably TRAIN this model on a down-stream task to be able to use it for predictions and inference.\n",
            "Some weights of RobertaModel were not initialized from the model checkpoint at roberta-base and are newly initialized: ['roberta.pooler.dense.bias', 'roberta.pooler.dense.weight']\n",
            "You should probably TRAIN this model on a down-stream task to be able to use it for predictions and inference.\n"
          ]
        }
      ],
      "source": [
        "train_con_embed, test_con_embed = get_repre(EnTrainTask1, EnDevTask1,\n",
        "                                      get_contextual_embeddings, \"roberta-base\",\n",
        "                                            \"task1\",\"english\", -1)"
      ]
    },
    {
      "cell_type": "code",
      "execution_count": null,
      "metadata": {
        "id": "u69VksyAn4vz"
      },
      "outputs": [],
      "source": [
        "train_lsa_repre, test_lsa_repre = get_repre(EnTrainTask1, EnDevTask1,\n",
        "                                      LSA_TF_IDF_repre, \"\",\n",
        "                                      \"task1\",\"english\", -1)"
      ]
    },
    {
      "cell_type": "markdown",
      "metadata": {
        "id": "lRH02d5Fi1ND"
      },
      "source": [
        "## Learning Models - subtask 1"
      ]
    },
    {
      "cell_type": "code",
      "execution_count": 95,
      "metadata": {
        "id": "dowaagWji1NG"
      },
      "outputs": [],
      "source": [
        "def log_reg(x_train, y_train, x_dev, y_dev):\n",
        "    clf1 = LogisticRegression(\n",
        "      penalty='l2',\n",
        "      C=1.0,\n",
        "      solver='liblinear', #'saga' 'l1'\n",
        "      max_iter=200\n",
        "    )\n",
        "    clf1.fit(x_train, y_train)\n",
        "    predicted1 = clf1.predict(x_dev)\n",
        "\n",
        "    f1_positive = f1_score(y_dev, predicted1, pos_label=1)\n",
        "    print(f\"F1-score (Positive Class): {f1_positive}\")\n",
        "\n",
        "    report = classification_report(y_dev,predicted1, digits=4)\n",
        "    print(report)\n",
        "\n",
        "def decision_tree_sub1(X_train, y_train, X_dev, y_dev):\n",
        "    clf = DecisionTreeClassifier(random_state=42)\n",
        "    clf.fit(X_train, y_train)\n",
        "    predicted = clf.predict(X_dev)\n",
        "\n",
        "    f1_positive = f1_score(y_dev, predicted, pos_label=1)\n",
        "    print(f\"F1-score (Positive Class): {f1_positive}\")\n",
        "\n",
        "    report = classification_report(y_dev,predicted, digits=4)\n",
        "    print(report)\n",
        "\n",
        "def MLP_sub1(X_train, y_train, X_dev, y_dev):\n",
        "    clf = MLPClassifier(random_state = 1,\n",
        "                        hidden_layer_sizes = (256, 128),\n",
        "                        activation='relu',\n",
        "                        max_iter = 1500,\n",
        "                        learning_rate_init = 0.0005,\n",
        "                        alpha=0.0001,\n",
        "                        early_stopping=True,\n",
        "                        solver='lbfgs') # adam\n",
        "\n",
        "    clf.fit(X_train, y_train)\n",
        "    predicted = clf.predict(X_dev)\n",
        "\n",
        "    f1_positive = f1_score(y_dev, predicted, pos_label=1)\n",
        "    print(f\"F1-score (Positive Class): {f1_positive}\")\n",
        "\n",
        "    report = classification_report(y_dev, predicted, digits=4)\n",
        "    print(report)\n"
      ]
    },
    {
      "cell_type": "code",
      "execution_count": null,
      "metadata": {
        "id": "7i1aAf6TmBLE"
      },
      "outputs": [],
      "source": [
        "def train(train_data, test_data, method):\n",
        "    method(train_data[\"repre\"], train_data[\"label\"],\n",
        "           test_data[\"repre\"], test_data[\"label\"])\n"
      ]
    },
    {
      "cell_type": "markdown",
      "metadata": {
        "id": "wCE22gFxh8L5"
      },
      "source": [
        "# Subtask 1 - Results - English"
      ]
    },
    {
      "cell_type": "code",
      "execution_count": null,
      "metadata": {
        "colab": {
          "base_uri": "https://localhost:8080/"
        },
        "id": "J6nvaahpdl9_",
        "outputId": "92c2ae08-dc7a-4641-ac50-ab7177dcdad2"
      },
      "outputs": [
        {
          "output_type": "stream",
          "name": "stdout",
          "text": [
            "Representation: LSA based on TD-IDF with 50 components\n",
            "Clasiffier: Logistic regression\n",
            "F1-score (Positive Class): 0.5469613259668509\n",
            "              precision    recall  f1-score   support\n",
            "\n",
            "           0     0.6558    0.7240    0.6882       250\n",
            "           1     0.5893    0.5103    0.5470       194\n",
            "\n",
            "    accuracy                         0.6306       444\n",
            "   macro avg     0.6225    0.6172    0.6176       444\n",
            "weighted avg     0.6267    0.6306    0.6265       444\n",
            "\n"
          ]
        }
      ],
      "source": [
        "print(\"Representation: LSA based on TD-IDF with 50 components\")\n",
        "print(\"Clasiffier: Logistic regression\")\n",
        "train(train_lsa_repre, test_lsa_repre, log_reg)"
      ]
    },
    {
      "cell_type": "code",
      "execution_count": null,
      "metadata": {
        "colab": {
          "base_uri": "https://localhost:8080/"
        },
        "id": "BkDz6exXhlC4",
        "outputId": "c811aa2b-8c50-4c89-8436-81fa4609529b"
      },
      "outputs": [
        {
          "output_type": "stream",
          "name": "stdout",
          "text": [
            "Representation: Contextual embeddings using RoBERTa\n",
            "Clasiffier: Logistic regression\n",
            "F1-score (Positive Class): 0.7648725212464589\n",
            "              precision    recall  f1-score   support\n",
            "\n",
            "           0     0.7930    0.9040    0.8449       250\n",
            "           1     0.8491    0.6959    0.7649       194\n",
            "\n",
            "    accuracy                         0.8131       444\n",
            "   macro avg     0.8210    0.7999    0.8049       444\n",
            "weighted avg     0.8175    0.8131    0.8099       444\n",
            "\n"
          ]
        }
      ],
      "source": [
        "print(\"Representation: Contextual embeddings using RoBERTa\")\n",
        "print(\"Clasiffier: Logistic regression\")\n",
        "train(train_con_embed, test_con_embed, log_reg)"
      ]
    },
    {
      "cell_type": "code",
      "execution_count": null,
      "metadata": {
        "colab": {
          "base_uri": "https://localhost:8080/"
        },
        "id": "JwXxqwyTdled",
        "outputId": "ad773048-3107-4937-e92a-6a92386bd85b"
      },
      "outputs": [
        {
          "output_type": "stream",
          "name": "stdout",
          "text": [
            "Representation: LSA based on TD-IDF with 50 components\n",
            "Clasiffier: Decison Tree\n",
            "F1-score (Positive Class): 0.4824120603015075\n",
            "              precision    recall  f1-score   support\n",
            "\n",
            "           0     0.5917    0.5680    0.5796       250\n",
            "           1     0.4706    0.4948    0.4824       194\n",
            "\n",
            "    accuracy                         0.5360       444\n",
            "   macro avg     0.5311    0.5314    0.5310       444\n",
            "weighted avg     0.5388    0.5360    0.5371       444\n",
            "\n"
          ]
        }
      ],
      "source": [
        "print(\"Representation: LSA based on TD-IDF with 50 components\")\n",
        "print(\"Clasiffier: Decison Tree\")\n",
        "train(train_lsa_repre, test_lsa_repre, decision_tree_sub1)"
      ]
    },
    {
      "cell_type": "code",
      "execution_count": null,
      "metadata": {
        "colab": {
          "base_uri": "https://localhost:8080/"
        },
        "id": "IsGPe9VmlC4n",
        "outputId": "abd8d83f-ae99-4990-f4c3-b4b9530067d7"
      },
      "outputs": [
        {
          "output_type": "stream",
          "name": "stdout",
          "text": [
            "Representation: Contextual embeddings using RoBERTa\n",
            "Clasiffier: Decison Tree\n",
            "F1-score (Positive Class): 0.6106870229007634\n",
            "              precision    recall  f1-score   support\n",
            "\n",
            "           0     0.6980    0.6840    0.6909       250\n",
            "           1     0.6030    0.6186    0.6107       194\n",
            "\n",
            "    accuracy                         0.6554       444\n",
            "   macro avg     0.6505    0.6513    0.6508       444\n",
            "weighted avg     0.6565    0.6554    0.6559       444\n",
            "\n"
          ]
        }
      ],
      "source": [
        "print(\"Representation: Contextual embeddings using RoBERTa\")\n",
        "print(\"Clasiffier: Decison Tree\")\n",
        "train(train_con_embed, test_con_embed, decision_tree_sub1)"
      ]
    },
    {
      "cell_type": "code",
      "execution_count": 96,
      "metadata": {
        "colab": {
          "base_uri": "https://localhost:8080/"
        },
        "id": "eGte0JJgf1O5",
        "outputId": "0d31b5b8-e53e-43f1-c62a-74da261ea3dd"
      },
      "outputs": [
        {
          "output_type": "stream",
          "name": "stdout",
          "text": [
            "Representation: LSA based on TD-IDF with 50 components\n",
            "Clasiffier: MLP\n",
            "F1-score (Positive Class): 0.5055762081784386\n",
            "              precision    recall  f1-score   support\n",
            "\n",
            "           0     0.4131    0.3843    0.3982       229\n",
            "           1     0.4910    0.5211    0.5056       261\n",
            "\n",
            "    accuracy                         0.4571       490\n",
            "   macro avg     0.4521    0.4527    0.4519       490\n",
            "weighted avg     0.4546    0.4571    0.4554       490\n",
            "\n"
          ]
        }
      ],
      "source": [
        "print(\"Representation: LSA based on TD-IDF with 50 components\")\n",
        "print(\"Clasiffier: MLP\")\n",
        "train(train_lsa_repre, test_lsa_repre, MLP_sub1)"
      ]
    },
    {
      "cell_type": "code",
      "execution_count": 97,
      "metadata": {
        "colab": {
          "base_uri": "https://localhost:8080/"
        },
        "id": "dZ1Psr07gA-I",
        "outputId": "6c71a8d1-0b60-4fa3-f172-fa7b5dcec3de"
      },
      "outputs": [
        {
          "output_type": "stream",
          "name": "stdout",
          "text": [
            "Representation: Contextual embeddings using RoBERTa\n",
            "Clasiffier: MLP\n",
            "F1-score (Positive Class): 0.7423076923076923\n",
            "              precision    recall  f1-score   support\n",
            "\n",
            "           0     0.7056    0.7118    0.7087       229\n",
            "           1     0.7452    0.7395    0.7423       261\n",
            "\n",
            "    accuracy                         0.7265       490\n",
            "   macro avg     0.7254    0.7256    0.7255       490\n",
            "weighted avg     0.7267    0.7265    0.7266       490\n",
            "\n"
          ]
        },
        {
          "output_type": "stream",
          "name": "stderr",
          "text": [
            "/usr/local/lib/python3.11/dist-packages/sklearn/neural_network/_multilayer_perceptron.py:546: ConvergenceWarning: lbfgs failed to converge (status=1):\n",
            "STOP: TOTAL NO. of ITERATIONS REACHED LIMIT.\n",
            "\n",
            "Increase the number of iterations (max_iter) or scale the data as shown in:\n",
            "    https://scikit-learn.org/stable/modules/preprocessing.html\n",
            "  self.n_iter_ = _check_optimize_result(\"lbfgs\", opt_res, self.max_iter)\n"
          ]
        }
      ],
      "source": [
        "print(\"Representation: Contextual embeddings using RoBERTa\")\n",
        "print(\"Clasiffier: MLP\")\n",
        "train(train_con_embed, test_con_embed, MLP_sub1)"
      ]
    },
    {
      "cell_type": "markdown",
      "metadata": {
        "id": "HSVss5dfiKu5"
      },
      "source": [
        "# Learning Models - Subtask 2 - English"
      ]
    },
    {
      "cell_type": "code",
      "execution_count": null,
      "metadata": {
        "colab": {
          "base_uri": "https://localhost:8080/"
        },
        "id": "mdoAfEiciOeS",
        "outputId": "6091fef4-2cd1-4ddd-c32c-7d4c0856c885"
      },
      "outputs": [
        {
          "output_type": "stream",
          "name": "stderr",
          "text": [
            "Some weights of RobertaModel were not initialized from the model checkpoint at roberta-base and are newly initialized: ['roberta.pooler.dense.bias', 'roberta.pooler.dense.weight']\n",
            "You should probably TRAIN this model on a down-stream task to be able to use it for predictions and inference.\n",
            "Some weights of RobertaModel were not initialized from the model checkpoint at roberta-base and are newly initialized: ['roberta.pooler.dense.bias', 'roberta.pooler.dense.weight']\n",
            "You should probably TRAIN this model on a down-stream task to be able to use it for predictions and inference.\n"
          ]
        }
      ],
      "source": [
        "train_con_embed2, test_con_embed2 = get_repre(EnTrainTask2, EnDevTask2,\n",
        "                                      get_contextual_embeddings, \"roberta-base\",\n",
        "                                            \"task2\", \"english\", -1)"
      ]
    },
    {
      "cell_type": "code",
      "execution_count": null,
      "metadata": {
        "id": "N0WDNxwcr_Hj"
      },
      "outputs": [],
      "source": [
        "train_lsa_repre2, test_lsa_repre2 = get_repre(EnTrainTask2, EnDevTask2,\n",
        "                                      LSA_TF_IDF_repre, \"\",\n",
        "                                      \"task2\", \"english\", -1)"
      ]
    },
    {
      "cell_type": "code",
      "execution_count": 92,
      "metadata": {
        "id": "8GnQ1_L7qB-p"
      },
      "outputs": [],
      "source": [
        "def log_reg_sub2(x_train, y_train, x_dev, y_dev):\n",
        "    clf = LogisticRegression(\n",
        "      penalty='l2',\n",
        "      C=1.0,\n",
        "      solver='liblinear', #'saga' 'l1'\n",
        "      max_iter=200\n",
        "    )\n",
        "    clf.fit(x_train, y_train)\n",
        "    predicted = clf.predict(x_dev)\n",
        "\n",
        "    f1_macro = f1_score(y_dev, predicted, average='macro')\n",
        "    print(f\"F1-score (Macro-Averaged): {f1_macro}\")\n",
        "\n",
        "    report = classification_report(y_dev,predicted, digits=4)\n",
        "    print(report)\n",
        "\n",
        "\n",
        "def decision_tree_sub2(X_train, y_train, X_dev, y_dev):\n",
        "    clf = DecisionTreeClassifier()\n",
        "    clf.fit(X_train, y_train)\n",
        "    predicted = clf.predict(X_dev)\n",
        "\n",
        "    f1_macro = f1_score(y_dev, predicted, average='macro')\n",
        "    print(f\"F1-score (Macro-Averaged): {f1_macro}\")\n",
        "\n",
        "    report = classification_report(y_dev, predicted, digits=4)\n",
        "    print(report)\n",
        "\n",
        "\n",
        "def MLP_sub2(X_train, y_train, X_dev, y_dev):\n",
        "    clf = MLPClassifier(random_state = 1,\n",
        "                        max_iter = 1500,\n",
        "                        learning_rate_init = 0.0005,\n",
        "                        early_stopping=True,\n",
        "                        solver='lbfgs')\n",
        "    clf.fit(X_train, y_train)\n",
        "    predicted = clf.predict(X_dev)\n",
        "\n",
        "    f1_macro = f1_score(y_dev, predicted, average='macro')\n",
        "    print(f\"F1-score (Macro-Averaged): {f1_macro}\")\n",
        "\n",
        "    report = classification_report(y_dev, predicted, digits=4)\n",
        "    print(report)\n",
        "\n"
      ]
    },
    {
      "cell_type": "markdown",
      "source": [
        "# Subtask 2 - Results - English"
      ],
      "metadata": {
        "id": "PCR9NkCf7p42"
      }
    },
    {
      "cell_type": "code",
      "execution_count": null,
      "metadata": {
        "colab": {
          "base_uri": "https://localhost:8080/"
        },
        "id": "F0q7mbAltc8H",
        "outputId": "33e208d5-2903-43b6-9c7f-8f08f3f97040"
      },
      "outputs": [
        {
          "output_type": "stream",
          "name": "stdout",
          "text": [
            "Representation: LSA based on TD-IDF with 50 components\n",
            "Clasiffier: Logistic regression\n",
            "F1-score (Macro-Averaged): 0.24277660324171949\n",
            "              precision    recall  f1-score   support\n",
            "\n",
            "           0     0.0000    0.0000    0.0000        28\n",
            "           1     0.1000    0.0303    0.0465        33\n",
            "           2     0.5556    0.8824    0.6818        85\n",
            "\n",
            "    accuracy                         0.5205       146\n",
            "   macro avg     0.2185    0.3042    0.2428       146\n",
            "weighted avg     0.3460    0.5205    0.4075       146\n",
            "\n"
          ]
        }
      ],
      "source": [
        "print(\"Representation: LSA based on TD-IDF with 50 components\")\n",
        "print(\"Clasiffier: Logistic regression\")\n",
        "train(train_lsa_repre2, test_lsa_repre2, log_reg_sub2)\n"
      ]
    },
    {
      "cell_type": "code",
      "execution_count": null,
      "metadata": {
        "colab": {
          "base_uri": "https://localhost:8080/"
        },
        "id": "bVu0BjTmuQnU",
        "outputId": "ec676dbd-5fe3-44c4-bcee-58ea8d0d4fb8"
      },
      "outputs": [
        {
          "output_type": "stream",
          "name": "stdout",
          "text": [
            "Representation: Contextual embeddings using RoBERTa\n",
            "Clasiffier: Logistic regression\n",
            "F1-score (Macro-Averaged): 0.43342670401493927\n",
            "              precision    recall  f1-score   support\n",
            "\n",
            "           0     0.5000    0.1071    0.1765        28\n",
            "           1     0.5333    0.2424    0.3333        33\n",
            "           2     0.6640    0.9765    0.7905        85\n",
            "\n",
            "    accuracy                         0.6438       146\n",
            "   macro avg     0.5658    0.4420    0.4334       146\n",
            "weighted avg     0.6030    0.6438    0.5694       146\n",
            "\n"
          ]
        }
      ],
      "source": [
        "print(\"Representation: Contextual embeddings using RoBERTa\")\n",
        "print(\"Clasiffier: Logistic regression\")\n",
        "train(train_con_embed2, test_con_embed2, log_reg_sub2)"
      ]
    },
    {
      "cell_type": "code",
      "execution_count": null,
      "metadata": {
        "colab": {
          "base_uri": "https://localhost:8080/"
        },
        "id": "_OhtNSK5uRnR",
        "outputId": "eff85008-1d55-4410-b389-9c859e728e01"
      },
      "outputs": [
        {
          "output_type": "stream",
          "name": "stdout",
          "text": [
            "Representation: LSA based on TD-IDF with 50 components\n",
            "Clasiffier: Decison Tree\n",
            "F1-score (Macro-Averaged): 0.377480054192383\n",
            "              precision    recall  f1-score   support\n",
            "\n",
            "           0     0.3243    0.4286    0.3692        28\n",
            "           1     0.1750    0.2121    0.1918        33\n",
            "           2     0.6377    0.5176    0.5714        85\n",
            "\n",
            "    accuracy                         0.4315       146\n",
            "   macro avg     0.3790    0.3861    0.3775       146\n",
            "weighted avg     0.4730    0.4315    0.4468       146\n",
            "\n"
          ]
        }
      ],
      "source": [
        "print(\"Representation: LSA based on TD-IDF with 50 components\")\n",
        "print(\"Clasiffier: Decison Tree\")\n",
        "train(train_lsa_repre2, test_lsa_repre2, decision_tree_sub2)"
      ]
    },
    {
      "cell_type": "code",
      "execution_count": null,
      "metadata": {
        "colab": {
          "base_uri": "https://localhost:8080/"
        },
        "id": "hKOpWvrYuSPw",
        "outputId": "09e33b74-8955-4419-8d63-2118ee434545"
      },
      "outputs": [
        {
          "output_type": "stream",
          "name": "stdout",
          "text": [
            "Representation: Contextual embeddings using RoBERTa\n",
            "Clasiffier: Decison Tree\n",
            "F1-score (Macro-Averaged): 0.4150762281197064\n",
            "              precision    recall  f1-score   support\n",
            "\n",
            "           0     0.2927    0.4286    0.3478        28\n",
            "           1     0.3182    0.2121    0.2545        33\n",
            "           2     0.6506    0.6353    0.6429        85\n",
            "\n",
            "    accuracy                         0.5000       146\n",
            "   macro avg     0.4205    0.4253    0.4151       146\n",
            "weighted avg     0.5068    0.5000    0.4985       146\n",
            "\n"
          ]
        }
      ],
      "source": [
        "print(\"Representation: Contextual embeddings using RoBERTa\")\n",
        "print(\"Clasiffier: Decison Tree\")\n",
        "train(train_con_embed2, test_con_embed2, decision_tree_sub2)"
      ]
    },
    {
      "cell_type": "code",
      "execution_count": 94,
      "metadata": {
        "colab": {
          "base_uri": "https://localhost:8080/"
        },
        "id": "ByM_UDzmuS1i",
        "outputId": "4e70afd8-61c4-497e-d97c-0f5a9141f21e"
      },
      "outputs": [
        {
          "output_type": "stream",
          "name": "stdout",
          "text": [
            "Representation: LSA based on TD-IDF with 50 components\n",
            "Clasiffier: MLP\n",
            "F1-score (Macro-Averaged): 0.33407578084997436\n",
            "              precision    recall  f1-score   support\n",
            "\n",
            "           0     0.1786    0.1786    0.1786        28\n",
            "           1     0.2941    0.1515    0.2000        33\n",
            "           2     0.5743    0.6824    0.6237        85\n",
            "\n",
            "    accuracy                         0.4658       146\n",
            "   macro avg     0.3490    0.3375    0.3341       146\n",
            "weighted avg     0.4351    0.4658    0.4425       146\n",
            "\n"
          ]
        }
      ],
      "source": [
        "print(\"Representation: LSA based on TD-IDF with 50 components\")\n",
        "print(\"Clasiffier: MLP\")\n",
        "train(train_lsa_repre2, test_lsa_repre2, MLP_sub2)"
      ]
    },
    {
      "cell_type": "code",
      "execution_count": 93,
      "metadata": {
        "colab": {
          "base_uri": "https://localhost:8080/"
        },
        "id": "thFSdsK8uTaT",
        "outputId": "475dd215-1ca7-48cd-ec0e-95e060e973a7"
      },
      "outputs": [
        {
          "output_type": "stream",
          "name": "stdout",
          "text": [
            "Representation: Contextual embeddings using RoBERTa\n",
            "Clasiffier: MLP\n",
            "F1-score (Macro-Averaged): 0.5433364468634179\n",
            "              precision    recall  f1-score   support\n",
            "\n",
            "           0     0.4444    0.3922    0.4167        51\n",
            "           1     0.4595    0.4250    0.4416        40\n",
            "           2     0.7440    0.8017    0.7718       116\n",
            "\n",
            "    accuracy                         0.6280       207\n",
            "   macro avg     0.5493    0.5396    0.5433       207\n",
            "weighted avg     0.6152    0.6280    0.6205       207\n",
            "\n"
          ]
        }
      ],
      "source": [
        "print(\"Representation: Contextual embeddings using RoBERTa\")\n",
        "print(\"Clasiffier: MLP\")\n",
        "train(train_con_embed2, test_con_embed2, MLP_sub2)"
      ]
    },
    {
      "cell_type": "markdown",
      "metadata": {
        "id": "Z5qoprUZi1NM"
      },
      "source": [
        "# SPANISH"
      ]
    },
    {
      "cell_type": "markdown",
      "metadata": {
        "id": "netKRTY8i1NO"
      },
      "source": [
        "## Tweet representations (Feature extraction)"
      ]
    },
    {
      "cell_type": "code",
      "execution_count": 51,
      "metadata": {
        "colab": {
          "base_uri": "https://localhost:8080/",
          "height": 362,
          "referenced_widgets": [
            "79555db4b4a0490285ae56ba090a6b38",
            "3d1f861074a34d4eaeb72bf4a595e20f",
            "e1c011978bf94652bb0bcae2d56dbf5d",
            "b06f7f20bb4b484988f565cfcd723112",
            "12f382310a86495a82f38a954cb618f2",
            "3df92015f29b484ca0c65dfc312cf574",
            "46963992e03e4ea7be43a62112034465",
            "0458ee15f0bd4ff1ab5dd9dc7ba8b3ca",
            "c022053eb5ee47bc98229928f943e77d",
            "a9e9a23cc90c45aab57f4ead2bef2f74",
            "39d3db1d1b674ff5bf4d3245248b3fdb",
            "33971e6aa90041f1a265c3c56d05ef57",
            "95ef6be584244a12b894a7aed68025ce",
            "cd8bb5336fba415a8ae0112736fa88d9",
            "97e1b9027cf14a60a48bbac3795646e7",
            "572b684c65a24be9848ba8c480ea0e58",
            "916c8a33f3bd4be599bfc888caccda2f",
            "b60af9caec214a8ca7739dccca883cdd",
            "48499c4e3966445a8ff9589f99a380ef",
            "fdd53fee91734aa485082fd07551ec19",
            "66aa132b88e642e5b4a5bfa937240627",
            "be822981f2554719a6092475db7daaad",
            "cbe8ab1547ce4b79b3f8bed6e09f355e",
            "3dfc2ea6e1434f14b4e47a998fdebb87",
            "45e21c17a30e499694c7e7150c6104c8",
            "09bc11874451484282651d275a6b3cc6",
            "c7566aae6d134379a236affdc3a13cac",
            "1223e6ab320941b3986a844e05f12d22",
            "87622c03312e48168c7abc031e332d42",
            "7956707d52724171b23e8b98599494ef",
            "595af594a93c41c1b1ead6e5663e0221",
            "f7351ec6d0784732a811945ff422d03c",
            "a54b9f088b6d4ae39e10e4abd30c812e",
            "5349d16c970246ddb4d3688c3a4940a0",
            "52a49177ba6545629b03b5bb22f8c03a",
            "a70fbf460d17410dbaabe93b3ffdde94",
            "55cc303469a2428f9d4d18c5a75174db",
            "a1bb3bfca3d14747bdfd178dd32d699b",
            "27ce5c00c3c0462ebe49a0a5d31a5541",
            "f8ccb1928e7d453dae0862ef1efa1f74",
            "21b7d584fd2d44d1bd7eed3140bb88b1",
            "057c6e90cb8d4ceaa32ac1a53ad5d9d3",
            "536d1eaa0e174d23903b6b89c894e0ef",
            "37c18939ea77410ea3d61737874f7527",
            "77ddc16d6a0949e7b0228eeb3144c771",
            "c64f3487f5b745658c1e57181386d66a",
            "f8af93d0645b4454baa8b07adafe8061",
            "61b630b862e94372bf26f823cea5c6a1",
            "060be8f4157645149c699405014e12e9",
            "d6164040002b4f1994027bcbe5a69866",
            "888e88b0b60840dfa0aa396ea2357dd4",
            "2d97b06bfec742599cdfe7876ea8800c",
            "f26efaee67564fc88d1e55f5a625fb43",
            "f0ce298150d149c28d4b75d13e1ce353",
            "4d3367e91bc84e73bebf45ad59c85bed",
            "18617189a1794a348cfb10bbd5214535",
            "937e39b69c2740fdbcdf7835e718d53e",
            "ba2080867fa14a7eaccc31002ba0c57c",
            "78647125a99a404a9b9545e851771441",
            "a8cec013835b4040aa52b10ca86aae22",
            "776ebac2874043cabedbd6b14feb2c76",
            "b5d92154cee64c37b65bd37d2fc21025",
            "96bbc5e792704baeb1cebf339eb1b385",
            "4e7addf4cc8d42e690c74708e6353164",
            "7c28aa40751e406cb20658e220e661f9",
            "32ef0a17b32642b389005ec502617b56",
            "c606c39ca4a2490aab1ec5804c749aed",
            "ebebcb8a5586429da24d8c380b76667f",
            "993694704ad24fa4bcc2313ffaa40e05",
            "8f57bfff5e6641f8900e7badf76a29d5",
            "ff70e2f80cc54d25b9c85e56ae61c876",
            "e1a97bbb847a406b9bc7fea72ea76145",
            "58bc6ea66bdf480a90dae508a1ea3445",
            "80158e4669de44f5ac14d2687a947edd",
            "7fed124f837842d0afefe9c98e153158",
            "c3d946f1144c4fb2a0d5eae78e501bb3",
            "9ca116f7e63440e8aac4c42e144fb7d4",
            "c5330e3518164bd6abee0fc307f98de3",
            "d2bc75b074c14806a39dfcb7e0f82364",
            "f1882e001d5d44aea222c84f42220026",
            "50705c6b356a4b7ab6ec998433e6b720",
            "c3a3de9d2e5548d3a4481884b1b45ed1",
            "dd5a09ef13694f458da17d2acba31947",
            "243ab88126514f16b4680f7025985a77",
            "193a5c6bf9d84a7cb6e4676aee86a040",
            "cba58a2cf77e49e0b96c89f55d60afae",
            "ce67a6e6c05e42cf9fb561c2b1eb74f8",
            "b6088f151c884d0fab355e2b48db08e8"
          ]
        },
        "id": "B0hCgI1ji1NO",
        "outputId": "3aa76250-ca57-4891-b57f-e0685f35af8c"
      },
      "outputs": [
        {
          "data": {
            "application/vnd.jupyter.widget-view+json": {
              "model_id": "79555db4b4a0490285ae56ba090a6b38",
              "version_major": 2,
              "version_minor": 0
            },
            "text/plain": [
              "tokenizer_config.json:   0%|          | 0.00/1.39k [00:00<?, ?B/s]"
            ]
          },
          "metadata": {},
          "output_type": "display_data"
        },
        {
          "data": {
            "application/vnd.jupyter.widget-view+json": {
              "model_id": "33971e6aa90041f1a265c3c56d05ef57",
              "version_major": 2,
              "version_minor": 0
            },
            "text/plain": [
              "vocab.json:   0%|          | 0.00/851k [00:00<?, ?B/s]"
            ]
          },
          "metadata": {},
          "output_type": "display_data"
        },
        {
          "data": {
            "application/vnd.jupyter.widget-view+json": {
              "model_id": "cbe8ab1547ce4b79b3f8bed6e09f355e",
              "version_major": 2,
              "version_minor": 0
            },
            "text/plain": [
              "merges.txt:   0%|          | 0.00/509k [00:00<?, ?B/s]"
            ]
          },
          "metadata": {},
          "output_type": "display_data"
        },
        {
          "data": {
            "application/vnd.jupyter.widget-view+json": {
              "model_id": "5349d16c970246ddb4d3688c3a4940a0",
              "version_major": 2,
              "version_minor": 0
            },
            "text/plain": [
              "tokenizer.json:   0%|          | 0.00/2.21M [00:00<?, ?B/s]"
            ]
          },
          "metadata": {},
          "output_type": "display_data"
        },
        {
          "data": {
            "application/vnd.jupyter.widget-view+json": {
              "model_id": "77ddc16d6a0949e7b0228eeb3144c771",
              "version_major": 2,
              "version_minor": 0
            },
            "text/plain": [
              "special_tokens_map.json:   0%|          | 0.00/957 [00:00<?, ?B/s]"
            ]
          },
          "metadata": {},
          "output_type": "display_data"
        },
        {
          "data": {
            "application/vnd.jupyter.widget-view+json": {
              "model_id": "18617189a1794a348cfb10bbd5214535",
              "version_major": 2,
              "version_minor": 0
            },
            "text/plain": [
              "config.json:   0%|          | 0.00/613 [00:00<?, ?B/s]"
            ]
          },
          "metadata": {},
          "output_type": "display_data"
        },
        {
          "data": {
            "application/vnd.jupyter.widget-view+json": {
              "model_id": "c606c39ca4a2490aab1ec5804c749aed",
              "version_major": 2,
              "version_minor": 0
            },
            "text/plain": [
              "pytorch_model.bin:   0%|          | 0.00/499M [00:00<?, ?B/s]"
            ]
          },
          "metadata": {},
          "output_type": "display_data"
        },
        {
          "metadata": {
            "tags": null
          },
          "name": "stderr",
          "output_type": "stream",
          "text": [
            "Some weights of RobertaModel were not initialized from the model checkpoint at PlanTL-GOB-ES/roberta-base-bne and are newly initialized: ['roberta.pooler.dense.bias', 'roberta.pooler.dense.weight']\n",
            "You should probably TRAIN this model on a down-stream task to be able to use it for predictions and inference.\n"
          ]
        },
        {
          "data": {
            "application/vnd.jupyter.widget-view+json": {
              "model_id": "c5330e3518164bd6abee0fc307f98de3",
              "version_major": 2,
              "version_minor": 0
            },
            "text/plain": [
              "model.safetensors:   0%|          | 0.00/499M [00:00<?, ?B/s]"
            ]
          },
          "metadata": {},
          "output_type": "display_data"
        },
        {
          "output_type": "stream",
          "name": "stderr",
          "text": [
            "Some weights of RobertaModel were not initialized from the model checkpoint at PlanTL-GOB-ES/roberta-base-bne and are newly initialized: ['roberta.pooler.dense.bias', 'roberta.pooler.dense.weight']\n",
            "You should probably TRAIN this model on a down-stream task to be able to use it for predictions and inference.\n"
          ]
        }
      ],
      "source": [
        "train_con_embed, test_con_embed = get_repre(SpTrainTask1, SpDevTask1,\n",
        "                                      get_contextual_embeddings, \"PlanTL-GOB-ES/roberta-base-bne\",\n",
        "                                            \"task1\", \"spanish\", -1)"
      ]
    },
    {
      "cell_type": "code",
      "execution_count": null,
      "metadata": {
        "id": "6GEHgzrM0BXc"
      },
      "outputs": [],
      "source": [
        "train_lsa_repre, test_lsa_repre = get_repre(SpTrainTask1, SpDevTask1,\n",
        "                                      LSA_TF_IDF_repre, \"\",\n",
        "                                      \"task1\", \"spanish\", -1)"
      ]
    },
    {
      "cell_type": "markdown",
      "metadata": {
        "id": "U2z-U9azi1NQ"
      },
      "source": [
        "## Subtask 1 - Spanish"
      ]
    },
    {
      "cell_type": "code",
      "execution_count": 100,
      "metadata": {
        "id": "D9Emjs6Zi1NR",
        "colab": {
          "base_uri": "https://localhost:8080/"
        },
        "outputId": "fa9dd90b-b558-4965-9e3a-7ff75245151a"
      },
      "outputs": [
        {
          "output_type": "stream",
          "name": "stdout",
          "text": [
            "Representation: LSA based on TD-IDF with 50 components\n",
            "Clasiffier: Logistic regression\n",
            "F1-score (Positive Class): 0.468503937007874\n",
            "              precision    recall  f1-score   support\n",
            "\n",
            "           0     0.4156    0.4410    0.4280       229\n",
            "           1     0.4818    0.4559    0.4685       261\n",
            "\n",
            "    accuracy                         0.4490       490\n",
            "   macro avg     0.4487    0.4485    0.4482       490\n",
            "weighted avg     0.4509    0.4490    0.4496       490\n",
            "\n"
          ]
        }
      ],
      "source": [
        "print(\"Representation: LSA based on TD-IDF with 50 components\")\n",
        "print(\"Clasiffier: Logistic regression\")\n",
        "train(train_lsa_repre, test_lsa_repre, log_reg)"
      ]
    },
    {
      "cell_type": "code",
      "execution_count": 54,
      "metadata": {
        "id": "bjWunY-m1Yn1",
        "colab": {
          "base_uri": "https://localhost:8080/"
        },
        "outputId": "897e100b-06c7-4ac6-98d4-14dec9839cb3"
      },
      "outputs": [
        {
          "output_type": "stream",
          "name": "stdout",
          "text": [
            "Representation: Contextual embeddings using RoBERTa\n",
            "Clasiffier: Logistic regression\n",
            "F1-score (Positive Class): 0.8180039138943248\n",
            "              precision    recall  f1-score   support\n",
            "\n",
            "           0     0.7833    0.8210    0.8017       229\n",
            "           1     0.8360    0.8008    0.8180       261\n",
            "\n",
            "    accuracy                         0.8102       490\n",
            "   macro avg     0.8097    0.8109    0.8099       490\n",
            "weighted avg     0.8114    0.8102    0.8104       490\n",
            "\n"
          ]
        }
      ],
      "source": [
        "print(\"Representation: Contextual embeddings using RoBERTa\")\n",
        "print(\"Clasiffier: Logistic regression\")\n",
        "train(train_con_embed, test_con_embed, log_reg) #0"
      ]
    },
    {
      "cell_type": "code",
      "execution_count": 98,
      "metadata": {
        "id": "zFirIqq-1aP3",
        "colab": {
          "base_uri": "https://localhost:8080/"
        },
        "outputId": "85fef9ec-b346-4ea2-e19d-3576834ddf74"
      },
      "outputs": [
        {
          "output_type": "stream",
          "name": "stdout",
          "text": [
            "Representation: LSA based on TD-IDF with 50 components\n",
            "Clasiffier: Decison Tree\n",
            "F1-score (Positive Class): 0.5140712945590994\n",
            "              precision    recall  f1-score   support\n",
            "\n",
            "           0     0.4312    0.4105    0.4206       229\n",
            "           1     0.5037    0.5249    0.5141       261\n",
            "\n",
            "    accuracy                         0.4714       490\n",
            "   macro avg     0.4674    0.4677    0.4673       490\n",
            "weighted avg     0.4698    0.4714    0.4704       490\n",
            "\n"
          ]
        }
      ],
      "source": [
        "print(\"Representation: LSA based on TD-IDF with 50 components\")\n",
        "print(\"Clasiffier: Decison Tree\")\n",
        "train(train_lsa_repre, test_lsa_repre, decision_tree_sub1) #51"
      ]
    },
    {
      "cell_type": "code",
      "execution_count": 56,
      "metadata": {
        "id": "M4v4NyzS1bFi",
        "colab": {
          "base_uri": "https://localhost:8080/"
        },
        "outputId": "666c10b7-75fb-45ad-e4b3-32fed209dfb7"
      },
      "outputs": [
        {
          "output_type": "stream",
          "name": "stdout",
          "text": [
            "Representation: Contextual embeddings using RoBERTa\n",
            "Clasiffier: Decison Tree\n",
            "F1-score (Positive Class): 0.6859344894026975\n",
            "              precision    recall  f1-score   support\n",
            "\n",
            "           0     0.6422    0.6507    0.6464       229\n",
            "           1     0.6899    0.6820    0.6859       261\n",
            "\n",
            "    accuracy                         0.6673       490\n",
            "   macro avg     0.6661    0.6663    0.6662       490\n",
            "weighted avg     0.6676    0.6673    0.6675       490\n",
            "\n"
          ]
        }
      ],
      "source": [
        "print(\"Representation: Contextual embeddings using RoBERTa\")\n",
        "print(\"Clasiffier: Decison Tree\")\n",
        "train(train_con_embed, test_con_embed, decision_tree_sub1) #42"
      ]
    },
    {
      "cell_type": "code",
      "execution_count": 99,
      "metadata": {
        "id": "Z2pZ6v181b4D",
        "colab": {
          "base_uri": "https://localhost:8080/"
        },
        "outputId": "5ef3d7b3-e0e3-4e95-c181-3ac3a6330f64"
      },
      "outputs": [
        {
          "output_type": "stream",
          "name": "stdout",
          "text": [
            "Representation: LSA based on TD-IDF with 50 components\n",
            "Clasiffier: MLP\n",
            "F1-score (Positive Class): 0.5055762081784386\n",
            "              precision    recall  f1-score   support\n",
            "\n",
            "           0     0.4131    0.3843    0.3982       229\n",
            "           1     0.4910    0.5211    0.5056       261\n",
            "\n",
            "    accuracy                         0.4571       490\n",
            "   macro avg     0.4521    0.4527    0.4519       490\n",
            "weighted avg     0.4546    0.4571    0.4554       490\n",
            "\n"
          ]
        }
      ],
      "source": [
        "print(\"Representation: LSA based on TD-IDF with 50 components\")\n",
        "print(\"Clasiffier: MLP\")\n",
        "train(train_lsa_repre, test_lsa_repre, MLP_sub1) #50 50"
      ]
    },
    {
      "cell_type": "code",
      "execution_count": 101,
      "metadata": {
        "id": "X7YkxP-21dCd",
        "colab": {
          "base_uri": "https://localhost:8080/"
        },
        "outputId": "d8d83965-3bff-44c4-fa70-b3361dce7a56"
      },
      "outputs": [
        {
          "output_type": "stream",
          "name": "stdout",
          "text": [
            "Representation: Contextual embeddings using RoBERTa\n",
            "Clasiffier: MLP\n",
            "F1-score (Positive Class): 0.7423076923076923\n",
            "              precision    recall  f1-score   support\n",
            "\n",
            "           0     0.7056    0.7118    0.7087       229\n",
            "           1     0.7452    0.7395    0.7423       261\n",
            "\n",
            "    accuracy                         0.7265       490\n",
            "   macro avg     0.7254    0.7256    0.7255       490\n",
            "weighted avg     0.7267    0.7265    0.7266       490\n",
            "\n"
          ]
        },
        {
          "output_type": "stream",
          "name": "stderr",
          "text": [
            "/usr/local/lib/python3.11/dist-packages/sklearn/neural_network/_multilayer_perceptron.py:546: ConvergenceWarning: lbfgs failed to converge (status=1):\n",
            "STOP: TOTAL NO. of ITERATIONS REACHED LIMIT.\n",
            "\n",
            "Increase the number of iterations (max_iter) or scale the data as shown in:\n",
            "    https://scikit-learn.org/stable/modules/preprocessing.html\n",
            "  self.n_iter_ = _check_optimize_result(\"lbfgs\", opt_res, self.max_iter)\n"
          ]
        }
      ],
      "source": [
        "print(\"Representation: Contextual embeddings using RoBERTa\")\n",
        "print(\"Clasiffier: MLP\")\n",
        "train(train_con_embed, test_con_embed, MLP_sub1) #38 74\n"
      ]
    },
    {
      "cell_type": "markdown",
      "source": [
        "# Subtask 2 - Spanish"
      ],
      "metadata": {
        "id": "OzN2p6f8iCU_"
      }
    },
    {
      "cell_type": "code",
      "source": [
        "train_con_embed2_sp, test_con_embed2_sp = get_repre(SpTrainTask2, SpDevTask2,\n",
        "                                      get_contextual_embeddings, \"PlanTL-GOB-ES/roberta-base-bne\",\n",
        "                                            \"task2\", \"spanish\", -1)"
      ],
      "metadata": {
        "colab": {
          "base_uri": "https://localhost:8080/"
        },
        "id": "5Kv384wbiBEO",
        "outputId": "9254055a-7732-4bd4-adb6-3b5e93336ff1"
      },
      "execution_count": 59,
      "outputs": [
        {
          "output_type": "stream",
          "name": "stderr",
          "text": [
            "Some weights of RobertaModel were not initialized from the model checkpoint at PlanTL-GOB-ES/roberta-base-bne and are newly initialized: ['roberta.pooler.dense.bias', 'roberta.pooler.dense.weight']\n",
            "You should probably TRAIN this model on a down-stream task to be able to use it for predictions and inference.\n",
            "Some weights of RobertaModel were not initialized from the model checkpoint at PlanTL-GOB-ES/roberta-base-bne and are newly initialized: ['roberta.pooler.dense.bias', 'roberta.pooler.dense.weight']\n",
            "You should probably TRAIN this model on a down-stream task to be able to use it for predictions and inference.\n"
          ]
        }
      ]
    },
    {
      "cell_type": "code",
      "source": [
        "train_lsa_repre2_sp, test_lsa_repre2_sp = get_repre(SpTrainTask2, SpDevTask2,\n",
        "                                      LSA_TF_IDF_repre, \"\",\n",
        "                                      \"task2\", \"spanish\", -1)"
      ],
      "metadata": {
        "id": "BABb0AQwiHpx"
      },
      "execution_count": 75,
      "outputs": []
    },
    {
      "cell_type": "code",
      "source": [
        "print(\"Representation: LSA based on TD-IDF with 50 components\")\n",
        "print(\"Clasiffier: Logistic regression\")\n",
        "train(train_lsa_repre2_sp, test_lsa_repre2_sp, log_reg_sub2)"
      ],
      "metadata": {
        "colab": {
          "base_uri": "https://localhost:8080/"
        },
        "id": "syG4SygDidYL",
        "outputId": "cb3e65f2-bfa5-4432-eb6e-a4d88f3478e6"
      },
      "execution_count": 76,
      "outputs": [
        {
          "output_type": "stream",
          "name": "stdout",
          "text": [
            "Representation: LSA based on TD-IDF with 50 components\n",
            "Clasiffier: Logistic regression\n",
            "F1-score (Macro-Averaged): 0.27550898807395796\n",
            "              precision    recall  f1-score   support\n",
            "\n",
            "           0     0.2727    0.0588    0.0968        51\n",
            "           1     0.1667    0.0250    0.0435        40\n",
            "           2     0.5526    0.9052    0.6863       116\n",
            "\n",
            "    accuracy                         0.5266       207\n",
            "   macro avg     0.3307    0.3297    0.2755       207\n",
            "weighted avg     0.4091    0.5266    0.4168       207\n",
            "\n"
          ]
        }
      ]
    },
    {
      "cell_type": "code",
      "source": [
        "print(\"Representation: Contextual embeddings using RoBERTa\")\n",
        "print(\"Clasiffier: Logistic regression\")\n",
        "train(train_con_embed2_sp, test_con_embed2_sp, log_reg_sub2)"
      ],
      "metadata": {
        "colab": {
          "base_uri": "https://localhost:8080/"
        },
        "id": "hQRCQZ4akk3f",
        "outputId": "d3927b57-a97c-4e87-96e7-bcbc78098c43"
      },
      "execution_count": 79,
      "outputs": [
        {
          "output_type": "stream",
          "name": "stdout",
          "text": [
            "Representation: Contextual embeddings using RoBERTa\n",
            "Clasiffier: Logistic regression\n",
            "F1-score (Macro-Averaged): 0.5103891766617198\n",
            "              precision    recall  f1-score   support\n",
            "\n",
            "           0     0.5238    0.2157    0.3056        51\n",
            "           1     0.5161    0.4000    0.4507        40\n",
            "           2     0.6774    0.9052    0.7749       116\n",
            "\n",
            "    accuracy                         0.6377       207\n",
            "   macro avg     0.5725    0.5070    0.5104       207\n",
            "weighted avg     0.6084    0.6377    0.5966       207\n",
            "\n"
          ]
        }
      ]
    },
    {
      "cell_type": "code",
      "source": [
        "print(\"Representation: LSA based on TD-IDF with 50 components\")\n",
        "print(\"Clasiffier: Decison Tree\")\n",
        "train(train_lsa_repre2_sp, test_lsa_repre2_sp, decision_tree_sub2)"
      ],
      "metadata": {
        "colab": {
          "base_uri": "https://localhost:8080/"
        },
        "id": "7Vg331XJkmMT",
        "outputId": "d0fe3b6b-aead-45c6-ca57-4e44865a5f22"
      },
      "execution_count": 78,
      "outputs": [
        {
          "output_type": "stream",
          "name": "stdout",
          "text": [
            "Representation: LSA based on TD-IDF with 50 components\n",
            "Clasiffier: Decison Tree\n",
            "F1-score (Macro-Averaged): 0.3331608589849728\n",
            "              precision    recall  f1-score   support\n",
            "\n",
            "           0     0.2222    0.1961    0.2083        51\n",
            "           1     0.1905    0.3000    0.2330        40\n",
            "           2     0.6061    0.5172    0.5581       116\n",
            "\n",
            "    accuracy                         0.3961       207\n",
            "   macro avg     0.3396    0.3378    0.3332       207\n",
            "weighted avg     0.4312    0.3961    0.4091       207\n",
            "\n"
          ]
        }
      ]
    },
    {
      "cell_type": "code",
      "source": [
        "print(\"Representation: Contextual embeddings using RoBERTa\")\n",
        "print(\"Clasiffier: Decison Tree\")\n",
        "train(train_con_embed2_sp, test_con_embed2_sp, decision_tree_sub2)"
      ],
      "metadata": {
        "colab": {
          "base_uri": "https://localhost:8080/"
        },
        "id": "VIBqPaTCkneA",
        "outputId": "408d15d8-0786-4740-8105-ff26c8fd1339"
      },
      "execution_count": 80,
      "outputs": [
        {
          "output_type": "stream",
          "name": "stdout",
          "text": [
            "Representation: Contextual embeddings using RoBERTa\n",
            "Clasiffier: Decison Tree\n",
            "F1-score (Macro-Averaged): 0.45842812158601626\n",
            "              precision    recall  f1-score   support\n",
            "\n",
            "           0     0.4091    0.3529    0.3789        51\n",
            "           1     0.2941    0.3750    0.3297        40\n",
            "           2     0.6786    0.6552    0.6667       116\n",
            "\n",
            "    accuracy                         0.5266       207\n",
            "   macro avg     0.4606    0.4610    0.4584       207\n",
            "weighted avg     0.5379    0.5266    0.5307       207\n",
            "\n"
          ]
        }
      ]
    },
    {
      "cell_type": "code",
      "source": [
        "print(\"Representation: LSA based on TD-IDF with 50 components\")\n",
        "print(\"Clasiffier: MLP\")\n",
        "train(train_lsa_repre2_sp, test_lsa_repre2_sp, MLP_sub2)"
      ],
      "metadata": {
        "colab": {
          "base_uri": "https://localhost:8080/"
        },
        "id": "yll6MbxQkosT",
        "outputId": "74311633-ff00-448a-8160-4dfe0449db10"
      },
      "execution_count": 102,
      "outputs": [
        {
          "output_type": "stream",
          "name": "stdout",
          "text": [
            "Representation: LSA based on TD-IDF with 50 components\n",
            "Clasiffier: MLP\n",
            "F1-score (Macro-Averaged): 0.3324342324342324\n",
            "              precision    recall  f1-score   support\n",
            "\n",
            "           0     0.3077    0.1569    0.2078        51\n",
            "           1     0.1892    0.1750    0.1818        40\n",
            "           2     0.5486    0.6810    0.6077       116\n",
            "\n",
            "    accuracy                         0.4541       207\n",
            "   macro avg     0.3485    0.3376    0.3324       207\n",
            "weighted avg     0.4198    0.4541    0.4269       207\n",
            "\n"
          ]
        }
      ]
    },
    {
      "cell_type": "code",
      "source": [
        "print(\"Representation: Contextual embeddings using RoBERTa\")\n",
        "print(\"Clasiffier: MLP\")\n",
        "train(train_con_embed2_sp, test_con_embed2_sp, MLP_sub2)  #54"
      ],
      "metadata": {
        "colab": {
          "base_uri": "https://localhost:8080/"
        },
        "id": "fovx4RbDkpva",
        "outputId": "dd729e7d-9de0-4883-9d6c-7ec548d304da"
      },
      "execution_count": 103,
      "outputs": [
        {
          "output_type": "stream",
          "name": "stdout",
          "text": [
            "Representation: Contextual embeddings using RoBERTa\n",
            "Clasiffier: MLP\n",
            "F1-score (Macro-Averaged): 0.5433364468634179\n",
            "              precision    recall  f1-score   support\n",
            "\n",
            "           0     0.4444    0.3922    0.4167        51\n",
            "           1     0.4595    0.4250    0.4416        40\n",
            "           2     0.7440    0.8017    0.7718       116\n",
            "\n",
            "    accuracy                         0.6280       207\n",
            "   macro avg     0.5493    0.5396    0.5433       207\n",
            "weighted avg     0.6152    0.6280    0.6205       207\n",
            "\n"
          ]
        }
      ]
    }
  ],
  "metadata": {
    "colab": {
      "provenance": [],
      "collapsed_sections": [
        "lRH02d5Fi1ND",
        "wCE22gFxh8L5",
        "HSVss5dfiKu5",
        "Y9O6j0w4i1NI",
        "PZRjGUdKi1NM",
        "netKRTY8i1NO",
        "U2z-U9azi1NQ"
      ]
    },
    "kernelspec": {
      "display_name": "Python 3 (ipykernel)",
      "language": "python",
      "name": "python3"
    },
    "language_info": {
      "codemirror_mode": {
        "name": "ipython",
        "version": 3
      },
      "file_extension": ".py",
      "mimetype": "text/x-python",
      "name": "python",
      "nbconvert_exporter": "python",
      "pygments_lexer": "ipython3",
      "version": "3.12.9"
    },
    "widgets": {
      "application/vnd.jupyter.widget-state+json": {
        "79555db4b4a0490285ae56ba090a6b38": {
          "model_module": "@jupyter-widgets/controls",
          "model_name": "HBoxModel",
          "model_module_version": "1.5.0",
          "state": {
            "_dom_classes": [],
            "_model_module": "@jupyter-widgets/controls",
            "_model_module_version": "1.5.0",
            "_model_name": "HBoxModel",
            "_view_count": null,
            "_view_module": "@jupyter-widgets/controls",
            "_view_module_version": "1.5.0",
            "_view_name": "HBoxView",
            "box_style": "",
            "children": [
              "IPY_MODEL_3d1f861074a34d4eaeb72bf4a595e20f",
              "IPY_MODEL_e1c011978bf94652bb0bcae2d56dbf5d",
              "IPY_MODEL_b06f7f20bb4b484988f565cfcd723112"
            ],
            "layout": "IPY_MODEL_12f382310a86495a82f38a954cb618f2"
          }
        },
        "3d1f861074a34d4eaeb72bf4a595e20f": {
          "model_module": "@jupyter-widgets/controls",
          "model_name": "HTMLModel",
          "model_module_version": "1.5.0",
          "state": {
            "_dom_classes": [],
            "_model_module": "@jupyter-widgets/controls",
            "_model_module_version": "1.5.0",
            "_model_name": "HTMLModel",
            "_view_count": null,
            "_view_module": "@jupyter-widgets/controls",
            "_view_module_version": "1.5.0",
            "_view_name": "HTMLView",
            "description": "",
            "description_tooltip": null,
            "layout": "IPY_MODEL_3df92015f29b484ca0c65dfc312cf574",
            "placeholder": "​",
            "style": "IPY_MODEL_46963992e03e4ea7be43a62112034465",
            "value": "tokenizer_config.json: 100%"
          }
        },
        "e1c011978bf94652bb0bcae2d56dbf5d": {
          "model_module": "@jupyter-widgets/controls",
          "model_name": "FloatProgressModel",
          "model_module_version": "1.5.0",
          "state": {
            "_dom_classes": [],
            "_model_module": "@jupyter-widgets/controls",
            "_model_module_version": "1.5.0",
            "_model_name": "FloatProgressModel",
            "_view_count": null,
            "_view_module": "@jupyter-widgets/controls",
            "_view_module_version": "1.5.0",
            "_view_name": "ProgressView",
            "bar_style": "success",
            "description": "",
            "description_tooltip": null,
            "layout": "IPY_MODEL_0458ee15f0bd4ff1ab5dd9dc7ba8b3ca",
            "max": 1391,
            "min": 0,
            "orientation": "horizontal",
            "style": "IPY_MODEL_c022053eb5ee47bc98229928f943e77d",
            "value": 1391
          }
        },
        "b06f7f20bb4b484988f565cfcd723112": {
          "model_module": "@jupyter-widgets/controls",
          "model_name": "HTMLModel",
          "model_module_version": "1.5.0",
          "state": {
            "_dom_classes": [],
            "_model_module": "@jupyter-widgets/controls",
            "_model_module_version": "1.5.0",
            "_model_name": "HTMLModel",
            "_view_count": null,
            "_view_module": "@jupyter-widgets/controls",
            "_view_module_version": "1.5.0",
            "_view_name": "HTMLView",
            "description": "",
            "description_tooltip": null,
            "layout": "IPY_MODEL_a9e9a23cc90c45aab57f4ead2bef2f74",
            "placeholder": "​",
            "style": "IPY_MODEL_39d3db1d1b674ff5bf4d3245248b3fdb",
            "value": " 1.39k/1.39k [00:00&lt;00:00, 94.1kB/s]"
          }
        },
        "12f382310a86495a82f38a954cb618f2": {
          "model_module": "@jupyter-widgets/base",
          "model_name": "LayoutModel",
          "model_module_version": "1.2.0",
          "state": {
            "_model_module": "@jupyter-widgets/base",
            "_model_module_version": "1.2.0",
            "_model_name": "LayoutModel",
            "_view_count": null,
            "_view_module": "@jupyter-widgets/base",
            "_view_module_version": "1.2.0",
            "_view_name": "LayoutView",
            "align_content": null,
            "align_items": null,
            "align_self": null,
            "border": null,
            "bottom": null,
            "display": null,
            "flex": null,
            "flex_flow": null,
            "grid_area": null,
            "grid_auto_columns": null,
            "grid_auto_flow": null,
            "grid_auto_rows": null,
            "grid_column": null,
            "grid_gap": null,
            "grid_row": null,
            "grid_template_areas": null,
            "grid_template_columns": null,
            "grid_template_rows": null,
            "height": null,
            "justify_content": null,
            "justify_items": null,
            "left": null,
            "margin": null,
            "max_height": null,
            "max_width": null,
            "min_height": null,
            "min_width": null,
            "object_fit": null,
            "object_position": null,
            "order": null,
            "overflow": null,
            "overflow_x": null,
            "overflow_y": null,
            "padding": null,
            "right": null,
            "top": null,
            "visibility": null,
            "width": null
          }
        },
        "3df92015f29b484ca0c65dfc312cf574": {
          "model_module": "@jupyter-widgets/base",
          "model_name": "LayoutModel",
          "model_module_version": "1.2.0",
          "state": {
            "_model_module": "@jupyter-widgets/base",
            "_model_module_version": "1.2.0",
            "_model_name": "LayoutModel",
            "_view_count": null,
            "_view_module": "@jupyter-widgets/base",
            "_view_module_version": "1.2.0",
            "_view_name": "LayoutView",
            "align_content": null,
            "align_items": null,
            "align_self": null,
            "border": null,
            "bottom": null,
            "display": null,
            "flex": null,
            "flex_flow": null,
            "grid_area": null,
            "grid_auto_columns": null,
            "grid_auto_flow": null,
            "grid_auto_rows": null,
            "grid_column": null,
            "grid_gap": null,
            "grid_row": null,
            "grid_template_areas": null,
            "grid_template_columns": null,
            "grid_template_rows": null,
            "height": null,
            "justify_content": null,
            "justify_items": null,
            "left": null,
            "margin": null,
            "max_height": null,
            "max_width": null,
            "min_height": null,
            "min_width": null,
            "object_fit": null,
            "object_position": null,
            "order": null,
            "overflow": null,
            "overflow_x": null,
            "overflow_y": null,
            "padding": null,
            "right": null,
            "top": null,
            "visibility": null,
            "width": null
          }
        },
        "46963992e03e4ea7be43a62112034465": {
          "model_module": "@jupyter-widgets/controls",
          "model_name": "DescriptionStyleModel",
          "model_module_version": "1.5.0",
          "state": {
            "_model_module": "@jupyter-widgets/controls",
            "_model_module_version": "1.5.0",
            "_model_name": "DescriptionStyleModel",
            "_view_count": null,
            "_view_module": "@jupyter-widgets/base",
            "_view_module_version": "1.2.0",
            "_view_name": "StyleView",
            "description_width": ""
          }
        },
        "0458ee15f0bd4ff1ab5dd9dc7ba8b3ca": {
          "model_module": "@jupyter-widgets/base",
          "model_name": "LayoutModel",
          "model_module_version": "1.2.0",
          "state": {
            "_model_module": "@jupyter-widgets/base",
            "_model_module_version": "1.2.0",
            "_model_name": "LayoutModel",
            "_view_count": null,
            "_view_module": "@jupyter-widgets/base",
            "_view_module_version": "1.2.0",
            "_view_name": "LayoutView",
            "align_content": null,
            "align_items": null,
            "align_self": null,
            "border": null,
            "bottom": null,
            "display": null,
            "flex": null,
            "flex_flow": null,
            "grid_area": null,
            "grid_auto_columns": null,
            "grid_auto_flow": null,
            "grid_auto_rows": null,
            "grid_column": null,
            "grid_gap": null,
            "grid_row": null,
            "grid_template_areas": null,
            "grid_template_columns": null,
            "grid_template_rows": null,
            "height": null,
            "justify_content": null,
            "justify_items": null,
            "left": null,
            "margin": null,
            "max_height": null,
            "max_width": null,
            "min_height": null,
            "min_width": null,
            "object_fit": null,
            "object_position": null,
            "order": null,
            "overflow": null,
            "overflow_x": null,
            "overflow_y": null,
            "padding": null,
            "right": null,
            "top": null,
            "visibility": null,
            "width": null
          }
        },
        "c022053eb5ee47bc98229928f943e77d": {
          "model_module": "@jupyter-widgets/controls",
          "model_name": "ProgressStyleModel",
          "model_module_version": "1.5.0",
          "state": {
            "_model_module": "@jupyter-widgets/controls",
            "_model_module_version": "1.5.0",
            "_model_name": "ProgressStyleModel",
            "_view_count": null,
            "_view_module": "@jupyter-widgets/base",
            "_view_module_version": "1.2.0",
            "_view_name": "StyleView",
            "bar_color": null,
            "description_width": ""
          }
        },
        "a9e9a23cc90c45aab57f4ead2bef2f74": {
          "model_module": "@jupyter-widgets/base",
          "model_name": "LayoutModel",
          "model_module_version": "1.2.0",
          "state": {
            "_model_module": "@jupyter-widgets/base",
            "_model_module_version": "1.2.0",
            "_model_name": "LayoutModel",
            "_view_count": null,
            "_view_module": "@jupyter-widgets/base",
            "_view_module_version": "1.2.0",
            "_view_name": "LayoutView",
            "align_content": null,
            "align_items": null,
            "align_self": null,
            "border": null,
            "bottom": null,
            "display": null,
            "flex": null,
            "flex_flow": null,
            "grid_area": null,
            "grid_auto_columns": null,
            "grid_auto_flow": null,
            "grid_auto_rows": null,
            "grid_column": null,
            "grid_gap": null,
            "grid_row": null,
            "grid_template_areas": null,
            "grid_template_columns": null,
            "grid_template_rows": null,
            "height": null,
            "justify_content": null,
            "justify_items": null,
            "left": null,
            "margin": null,
            "max_height": null,
            "max_width": null,
            "min_height": null,
            "min_width": null,
            "object_fit": null,
            "object_position": null,
            "order": null,
            "overflow": null,
            "overflow_x": null,
            "overflow_y": null,
            "padding": null,
            "right": null,
            "top": null,
            "visibility": null,
            "width": null
          }
        },
        "39d3db1d1b674ff5bf4d3245248b3fdb": {
          "model_module": "@jupyter-widgets/controls",
          "model_name": "DescriptionStyleModel",
          "model_module_version": "1.5.0",
          "state": {
            "_model_module": "@jupyter-widgets/controls",
            "_model_module_version": "1.5.0",
            "_model_name": "DescriptionStyleModel",
            "_view_count": null,
            "_view_module": "@jupyter-widgets/base",
            "_view_module_version": "1.2.0",
            "_view_name": "StyleView",
            "description_width": ""
          }
        },
        "33971e6aa90041f1a265c3c56d05ef57": {
          "model_module": "@jupyter-widgets/controls",
          "model_name": "HBoxModel",
          "model_module_version": "1.5.0",
          "state": {
            "_dom_classes": [],
            "_model_module": "@jupyter-widgets/controls",
            "_model_module_version": "1.5.0",
            "_model_name": "HBoxModel",
            "_view_count": null,
            "_view_module": "@jupyter-widgets/controls",
            "_view_module_version": "1.5.0",
            "_view_name": "HBoxView",
            "box_style": "",
            "children": [
              "IPY_MODEL_95ef6be584244a12b894a7aed68025ce",
              "IPY_MODEL_cd8bb5336fba415a8ae0112736fa88d9",
              "IPY_MODEL_97e1b9027cf14a60a48bbac3795646e7"
            ],
            "layout": "IPY_MODEL_572b684c65a24be9848ba8c480ea0e58"
          }
        },
        "95ef6be584244a12b894a7aed68025ce": {
          "model_module": "@jupyter-widgets/controls",
          "model_name": "HTMLModel",
          "model_module_version": "1.5.0",
          "state": {
            "_dom_classes": [],
            "_model_module": "@jupyter-widgets/controls",
            "_model_module_version": "1.5.0",
            "_model_name": "HTMLModel",
            "_view_count": null,
            "_view_module": "@jupyter-widgets/controls",
            "_view_module_version": "1.5.0",
            "_view_name": "HTMLView",
            "description": "",
            "description_tooltip": null,
            "layout": "IPY_MODEL_916c8a33f3bd4be599bfc888caccda2f",
            "placeholder": "​",
            "style": "IPY_MODEL_b60af9caec214a8ca7739dccca883cdd",
            "value": "vocab.json: 100%"
          }
        },
        "cd8bb5336fba415a8ae0112736fa88d9": {
          "model_module": "@jupyter-widgets/controls",
          "model_name": "FloatProgressModel",
          "model_module_version": "1.5.0",
          "state": {
            "_dom_classes": [],
            "_model_module": "@jupyter-widgets/controls",
            "_model_module_version": "1.5.0",
            "_model_name": "FloatProgressModel",
            "_view_count": null,
            "_view_module": "@jupyter-widgets/controls",
            "_view_module_version": "1.5.0",
            "_view_name": "ProgressView",
            "bar_style": "success",
            "description": "",
            "description_tooltip": null,
            "layout": "IPY_MODEL_48499c4e3966445a8ff9589f99a380ef",
            "max": 851290,
            "min": 0,
            "orientation": "horizontal",
            "style": "IPY_MODEL_fdd53fee91734aa485082fd07551ec19",
            "value": 851290
          }
        },
        "97e1b9027cf14a60a48bbac3795646e7": {
          "model_module": "@jupyter-widgets/controls",
          "model_name": "HTMLModel",
          "model_module_version": "1.5.0",
          "state": {
            "_dom_classes": [],
            "_model_module": "@jupyter-widgets/controls",
            "_model_module_version": "1.5.0",
            "_model_name": "HTMLModel",
            "_view_count": null,
            "_view_module": "@jupyter-widgets/controls",
            "_view_module_version": "1.5.0",
            "_view_name": "HTMLView",
            "description": "",
            "description_tooltip": null,
            "layout": "IPY_MODEL_66aa132b88e642e5b4a5bfa937240627",
            "placeholder": "​",
            "style": "IPY_MODEL_be822981f2554719a6092475db7daaad",
            "value": " 851k/851k [00:00&lt;00:00, 15.1MB/s]"
          }
        },
        "572b684c65a24be9848ba8c480ea0e58": {
          "model_module": "@jupyter-widgets/base",
          "model_name": "LayoutModel",
          "model_module_version": "1.2.0",
          "state": {
            "_model_module": "@jupyter-widgets/base",
            "_model_module_version": "1.2.0",
            "_model_name": "LayoutModel",
            "_view_count": null,
            "_view_module": "@jupyter-widgets/base",
            "_view_module_version": "1.2.0",
            "_view_name": "LayoutView",
            "align_content": null,
            "align_items": null,
            "align_self": null,
            "border": null,
            "bottom": null,
            "display": null,
            "flex": null,
            "flex_flow": null,
            "grid_area": null,
            "grid_auto_columns": null,
            "grid_auto_flow": null,
            "grid_auto_rows": null,
            "grid_column": null,
            "grid_gap": null,
            "grid_row": null,
            "grid_template_areas": null,
            "grid_template_columns": null,
            "grid_template_rows": null,
            "height": null,
            "justify_content": null,
            "justify_items": null,
            "left": null,
            "margin": null,
            "max_height": null,
            "max_width": null,
            "min_height": null,
            "min_width": null,
            "object_fit": null,
            "object_position": null,
            "order": null,
            "overflow": null,
            "overflow_x": null,
            "overflow_y": null,
            "padding": null,
            "right": null,
            "top": null,
            "visibility": null,
            "width": null
          }
        },
        "916c8a33f3bd4be599bfc888caccda2f": {
          "model_module": "@jupyter-widgets/base",
          "model_name": "LayoutModel",
          "model_module_version": "1.2.0",
          "state": {
            "_model_module": "@jupyter-widgets/base",
            "_model_module_version": "1.2.0",
            "_model_name": "LayoutModel",
            "_view_count": null,
            "_view_module": "@jupyter-widgets/base",
            "_view_module_version": "1.2.0",
            "_view_name": "LayoutView",
            "align_content": null,
            "align_items": null,
            "align_self": null,
            "border": null,
            "bottom": null,
            "display": null,
            "flex": null,
            "flex_flow": null,
            "grid_area": null,
            "grid_auto_columns": null,
            "grid_auto_flow": null,
            "grid_auto_rows": null,
            "grid_column": null,
            "grid_gap": null,
            "grid_row": null,
            "grid_template_areas": null,
            "grid_template_columns": null,
            "grid_template_rows": null,
            "height": null,
            "justify_content": null,
            "justify_items": null,
            "left": null,
            "margin": null,
            "max_height": null,
            "max_width": null,
            "min_height": null,
            "min_width": null,
            "object_fit": null,
            "object_position": null,
            "order": null,
            "overflow": null,
            "overflow_x": null,
            "overflow_y": null,
            "padding": null,
            "right": null,
            "top": null,
            "visibility": null,
            "width": null
          }
        },
        "b60af9caec214a8ca7739dccca883cdd": {
          "model_module": "@jupyter-widgets/controls",
          "model_name": "DescriptionStyleModel",
          "model_module_version": "1.5.0",
          "state": {
            "_model_module": "@jupyter-widgets/controls",
            "_model_module_version": "1.5.0",
            "_model_name": "DescriptionStyleModel",
            "_view_count": null,
            "_view_module": "@jupyter-widgets/base",
            "_view_module_version": "1.2.0",
            "_view_name": "StyleView",
            "description_width": ""
          }
        },
        "48499c4e3966445a8ff9589f99a380ef": {
          "model_module": "@jupyter-widgets/base",
          "model_name": "LayoutModel",
          "model_module_version": "1.2.0",
          "state": {
            "_model_module": "@jupyter-widgets/base",
            "_model_module_version": "1.2.0",
            "_model_name": "LayoutModel",
            "_view_count": null,
            "_view_module": "@jupyter-widgets/base",
            "_view_module_version": "1.2.0",
            "_view_name": "LayoutView",
            "align_content": null,
            "align_items": null,
            "align_self": null,
            "border": null,
            "bottom": null,
            "display": null,
            "flex": null,
            "flex_flow": null,
            "grid_area": null,
            "grid_auto_columns": null,
            "grid_auto_flow": null,
            "grid_auto_rows": null,
            "grid_column": null,
            "grid_gap": null,
            "grid_row": null,
            "grid_template_areas": null,
            "grid_template_columns": null,
            "grid_template_rows": null,
            "height": null,
            "justify_content": null,
            "justify_items": null,
            "left": null,
            "margin": null,
            "max_height": null,
            "max_width": null,
            "min_height": null,
            "min_width": null,
            "object_fit": null,
            "object_position": null,
            "order": null,
            "overflow": null,
            "overflow_x": null,
            "overflow_y": null,
            "padding": null,
            "right": null,
            "top": null,
            "visibility": null,
            "width": null
          }
        },
        "fdd53fee91734aa485082fd07551ec19": {
          "model_module": "@jupyter-widgets/controls",
          "model_name": "ProgressStyleModel",
          "model_module_version": "1.5.0",
          "state": {
            "_model_module": "@jupyter-widgets/controls",
            "_model_module_version": "1.5.0",
            "_model_name": "ProgressStyleModel",
            "_view_count": null,
            "_view_module": "@jupyter-widgets/base",
            "_view_module_version": "1.2.0",
            "_view_name": "StyleView",
            "bar_color": null,
            "description_width": ""
          }
        },
        "66aa132b88e642e5b4a5bfa937240627": {
          "model_module": "@jupyter-widgets/base",
          "model_name": "LayoutModel",
          "model_module_version": "1.2.0",
          "state": {
            "_model_module": "@jupyter-widgets/base",
            "_model_module_version": "1.2.0",
            "_model_name": "LayoutModel",
            "_view_count": null,
            "_view_module": "@jupyter-widgets/base",
            "_view_module_version": "1.2.0",
            "_view_name": "LayoutView",
            "align_content": null,
            "align_items": null,
            "align_self": null,
            "border": null,
            "bottom": null,
            "display": null,
            "flex": null,
            "flex_flow": null,
            "grid_area": null,
            "grid_auto_columns": null,
            "grid_auto_flow": null,
            "grid_auto_rows": null,
            "grid_column": null,
            "grid_gap": null,
            "grid_row": null,
            "grid_template_areas": null,
            "grid_template_columns": null,
            "grid_template_rows": null,
            "height": null,
            "justify_content": null,
            "justify_items": null,
            "left": null,
            "margin": null,
            "max_height": null,
            "max_width": null,
            "min_height": null,
            "min_width": null,
            "object_fit": null,
            "object_position": null,
            "order": null,
            "overflow": null,
            "overflow_x": null,
            "overflow_y": null,
            "padding": null,
            "right": null,
            "top": null,
            "visibility": null,
            "width": null
          }
        },
        "be822981f2554719a6092475db7daaad": {
          "model_module": "@jupyter-widgets/controls",
          "model_name": "DescriptionStyleModel",
          "model_module_version": "1.5.0",
          "state": {
            "_model_module": "@jupyter-widgets/controls",
            "_model_module_version": "1.5.0",
            "_model_name": "DescriptionStyleModel",
            "_view_count": null,
            "_view_module": "@jupyter-widgets/base",
            "_view_module_version": "1.2.0",
            "_view_name": "StyleView",
            "description_width": ""
          }
        },
        "cbe8ab1547ce4b79b3f8bed6e09f355e": {
          "model_module": "@jupyter-widgets/controls",
          "model_name": "HBoxModel",
          "model_module_version": "1.5.0",
          "state": {
            "_dom_classes": [],
            "_model_module": "@jupyter-widgets/controls",
            "_model_module_version": "1.5.0",
            "_model_name": "HBoxModel",
            "_view_count": null,
            "_view_module": "@jupyter-widgets/controls",
            "_view_module_version": "1.5.0",
            "_view_name": "HBoxView",
            "box_style": "",
            "children": [
              "IPY_MODEL_3dfc2ea6e1434f14b4e47a998fdebb87",
              "IPY_MODEL_45e21c17a30e499694c7e7150c6104c8",
              "IPY_MODEL_09bc11874451484282651d275a6b3cc6"
            ],
            "layout": "IPY_MODEL_c7566aae6d134379a236affdc3a13cac"
          }
        },
        "3dfc2ea6e1434f14b4e47a998fdebb87": {
          "model_module": "@jupyter-widgets/controls",
          "model_name": "HTMLModel",
          "model_module_version": "1.5.0",
          "state": {
            "_dom_classes": [],
            "_model_module": "@jupyter-widgets/controls",
            "_model_module_version": "1.5.0",
            "_model_name": "HTMLModel",
            "_view_count": null,
            "_view_module": "@jupyter-widgets/controls",
            "_view_module_version": "1.5.0",
            "_view_name": "HTMLView",
            "description": "",
            "description_tooltip": null,
            "layout": "IPY_MODEL_1223e6ab320941b3986a844e05f12d22",
            "placeholder": "​",
            "style": "IPY_MODEL_87622c03312e48168c7abc031e332d42",
            "value": "merges.txt: 100%"
          }
        },
        "45e21c17a30e499694c7e7150c6104c8": {
          "model_module": "@jupyter-widgets/controls",
          "model_name": "FloatProgressModel",
          "model_module_version": "1.5.0",
          "state": {
            "_dom_classes": [],
            "_model_module": "@jupyter-widgets/controls",
            "_model_module_version": "1.5.0",
            "_model_name": "FloatProgressModel",
            "_view_count": null,
            "_view_module": "@jupyter-widgets/controls",
            "_view_module_version": "1.5.0",
            "_view_name": "ProgressView",
            "bar_style": "success",
            "description": "",
            "description_tooltip": null,
            "layout": "IPY_MODEL_7956707d52724171b23e8b98599494ef",
            "max": 508942,
            "min": 0,
            "orientation": "horizontal",
            "style": "IPY_MODEL_595af594a93c41c1b1ead6e5663e0221",
            "value": 508942
          }
        },
        "09bc11874451484282651d275a6b3cc6": {
          "model_module": "@jupyter-widgets/controls",
          "model_name": "HTMLModel",
          "model_module_version": "1.5.0",
          "state": {
            "_dom_classes": [],
            "_model_module": "@jupyter-widgets/controls",
            "_model_module_version": "1.5.0",
            "_model_name": "HTMLModel",
            "_view_count": null,
            "_view_module": "@jupyter-widgets/controls",
            "_view_module_version": "1.5.0",
            "_view_name": "HTMLView",
            "description": "",
            "description_tooltip": null,
            "layout": "IPY_MODEL_f7351ec6d0784732a811945ff422d03c",
            "placeholder": "​",
            "style": "IPY_MODEL_a54b9f088b6d4ae39e10e4abd30c812e",
            "value": " 509k/509k [00:00&lt;00:00, 32.3MB/s]"
          }
        },
        "c7566aae6d134379a236affdc3a13cac": {
          "model_module": "@jupyter-widgets/base",
          "model_name": "LayoutModel",
          "model_module_version": "1.2.0",
          "state": {
            "_model_module": "@jupyter-widgets/base",
            "_model_module_version": "1.2.0",
            "_model_name": "LayoutModel",
            "_view_count": null,
            "_view_module": "@jupyter-widgets/base",
            "_view_module_version": "1.2.0",
            "_view_name": "LayoutView",
            "align_content": null,
            "align_items": null,
            "align_self": null,
            "border": null,
            "bottom": null,
            "display": null,
            "flex": null,
            "flex_flow": null,
            "grid_area": null,
            "grid_auto_columns": null,
            "grid_auto_flow": null,
            "grid_auto_rows": null,
            "grid_column": null,
            "grid_gap": null,
            "grid_row": null,
            "grid_template_areas": null,
            "grid_template_columns": null,
            "grid_template_rows": null,
            "height": null,
            "justify_content": null,
            "justify_items": null,
            "left": null,
            "margin": null,
            "max_height": null,
            "max_width": null,
            "min_height": null,
            "min_width": null,
            "object_fit": null,
            "object_position": null,
            "order": null,
            "overflow": null,
            "overflow_x": null,
            "overflow_y": null,
            "padding": null,
            "right": null,
            "top": null,
            "visibility": null,
            "width": null
          }
        },
        "1223e6ab320941b3986a844e05f12d22": {
          "model_module": "@jupyter-widgets/base",
          "model_name": "LayoutModel",
          "model_module_version": "1.2.0",
          "state": {
            "_model_module": "@jupyter-widgets/base",
            "_model_module_version": "1.2.0",
            "_model_name": "LayoutModel",
            "_view_count": null,
            "_view_module": "@jupyter-widgets/base",
            "_view_module_version": "1.2.0",
            "_view_name": "LayoutView",
            "align_content": null,
            "align_items": null,
            "align_self": null,
            "border": null,
            "bottom": null,
            "display": null,
            "flex": null,
            "flex_flow": null,
            "grid_area": null,
            "grid_auto_columns": null,
            "grid_auto_flow": null,
            "grid_auto_rows": null,
            "grid_column": null,
            "grid_gap": null,
            "grid_row": null,
            "grid_template_areas": null,
            "grid_template_columns": null,
            "grid_template_rows": null,
            "height": null,
            "justify_content": null,
            "justify_items": null,
            "left": null,
            "margin": null,
            "max_height": null,
            "max_width": null,
            "min_height": null,
            "min_width": null,
            "object_fit": null,
            "object_position": null,
            "order": null,
            "overflow": null,
            "overflow_x": null,
            "overflow_y": null,
            "padding": null,
            "right": null,
            "top": null,
            "visibility": null,
            "width": null
          }
        },
        "87622c03312e48168c7abc031e332d42": {
          "model_module": "@jupyter-widgets/controls",
          "model_name": "DescriptionStyleModel",
          "model_module_version": "1.5.0",
          "state": {
            "_model_module": "@jupyter-widgets/controls",
            "_model_module_version": "1.5.0",
            "_model_name": "DescriptionStyleModel",
            "_view_count": null,
            "_view_module": "@jupyter-widgets/base",
            "_view_module_version": "1.2.0",
            "_view_name": "StyleView",
            "description_width": ""
          }
        },
        "7956707d52724171b23e8b98599494ef": {
          "model_module": "@jupyter-widgets/base",
          "model_name": "LayoutModel",
          "model_module_version": "1.2.0",
          "state": {
            "_model_module": "@jupyter-widgets/base",
            "_model_module_version": "1.2.0",
            "_model_name": "LayoutModel",
            "_view_count": null,
            "_view_module": "@jupyter-widgets/base",
            "_view_module_version": "1.2.0",
            "_view_name": "LayoutView",
            "align_content": null,
            "align_items": null,
            "align_self": null,
            "border": null,
            "bottom": null,
            "display": null,
            "flex": null,
            "flex_flow": null,
            "grid_area": null,
            "grid_auto_columns": null,
            "grid_auto_flow": null,
            "grid_auto_rows": null,
            "grid_column": null,
            "grid_gap": null,
            "grid_row": null,
            "grid_template_areas": null,
            "grid_template_columns": null,
            "grid_template_rows": null,
            "height": null,
            "justify_content": null,
            "justify_items": null,
            "left": null,
            "margin": null,
            "max_height": null,
            "max_width": null,
            "min_height": null,
            "min_width": null,
            "object_fit": null,
            "object_position": null,
            "order": null,
            "overflow": null,
            "overflow_x": null,
            "overflow_y": null,
            "padding": null,
            "right": null,
            "top": null,
            "visibility": null,
            "width": null
          }
        },
        "595af594a93c41c1b1ead6e5663e0221": {
          "model_module": "@jupyter-widgets/controls",
          "model_name": "ProgressStyleModel",
          "model_module_version": "1.5.0",
          "state": {
            "_model_module": "@jupyter-widgets/controls",
            "_model_module_version": "1.5.0",
            "_model_name": "ProgressStyleModel",
            "_view_count": null,
            "_view_module": "@jupyter-widgets/base",
            "_view_module_version": "1.2.0",
            "_view_name": "StyleView",
            "bar_color": null,
            "description_width": ""
          }
        },
        "f7351ec6d0784732a811945ff422d03c": {
          "model_module": "@jupyter-widgets/base",
          "model_name": "LayoutModel",
          "model_module_version": "1.2.0",
          "state": {
            "_model_module": "@jupyter-widgets/base",
            "_model_module_version": "1.2.0",
            "_model_name": "LayoutModel",
            "_view_count": null,
            "_view_module": "@jupyter-widgets/base",
            "_view_module_version": "1.2.0",
            "_view_name": "LayoutView",
            "align_content": null,
            "align_items": null,
            "align_self": null,
            "border": null,
            "bottom": null,
            "display": null,
            "flex": null,
            "flex_flow": null,
            "grid_area": null,
            "grid_auto_columns": null,
            "grid_auto_flow": null,
            "grid_auto_rows": null,
            "grid_column": null,
            "grid_gap": null,
            "grid_row": null,
            "grid_template_areas": null,
            "grid_template_columns": null,
            "grid_template_rows": null,
            "height": null,
            "justify_content": null,
            "justify_items": null,
            "left": null,
            "margin": null,
            "max_height": null,
            "max_width": null,
            "min_height": null,
            "min_width": null,
            "object_fit": null,
            "object_position": null,
            "order": null,
            "overflow": null,
            "overflow_x": null,
            "overflow_y": null,
            "padding": null,
            "right": null,
            "top": null,
            "visibility": null,
            "width": null
          }
        },
        "a54b9f088b6d4ae39e10e4abd30c812e": {
          "model_module": "@jupyter-widgets/controls",
          "model_name": "DescriptionStyleModel",
          "model_module_version": "1.5.0",
          "state": {
            "_model_module": "@jupyter-widgets/controls",
            "_model_module_version": "1.5.0",
            "_model_name": "DescriptionStyleModel",
            "_view_count": null,
            "_view_module": "@jupyter-widgets/base",
            "_view_module_version": "1.2.0",
            "_view_name": "StyleView",
            "description_width": ""
          }
        },
        "5349d16c970246ddb4d3688c3a4940a0": {
          "model_module": "@jupyter-widgets/controls",
          "model_name": "HBoxModel",
          "model_module_version": "1.5.0",
          "state": {
            "_dom_classes": [],
            "_model_module": "@jupyter-widgets/controls",
            "_model_module_version": "1.5.0",
            "_model_name": "HBoxModel",
            "_view_count": null,
            "_view_module": "@jupyter-widgets/controls",
            "_view_module_version": "1.5.0",
            "_view_name": "HBoxView",
            "box_style": "",
            "children": [
              "IPY_MODEL_52a49177ba6545629b03b5bb22f8c03a",
              "IPY_MODEL_a70fbf460d17410dbaabe93b3ffdde94",
              "IPY_MODEL_55cc303469a2428f9d4d18c5a75174db"
            ],
            "layout": "IPY_MODEL_a1bb3bfca3d14747bdfd178dd32d699b"
          }
        },
        "52a49177ba6545629b03b5bb22f8c03a": {
          "model_module": "@jupyter-widgets/controls",
          "model_name": "HTMLModel",
          "model_module_version": "1.5.0",
          "state": {
            "_dom_classes": [],
            "_model_module": "@jupyter-widgets/controls",
            "_model_module_version": "1.5.0",
            "_model_name": "HTMLModel",
            "_view_count": null,
            "_view_module": "@jupyter-widgets/controls",
            "_view_module_version": "1.5.0",
            "_view_name": "HTMLView",
            "description": "",
            "description_tooltip": null,
            "layout": "IPY_MODEL_27ce5c00c3c0462ebe49a0a5d31a5541",
            "placeholder": "​",
            "style": "IPY_MODEL_f8ccb1928e7d453dae0862ef1efa1f74",
            "value": "tokenizer.json: 100%"
          }
        },
        "a70fbf460d17410dbaabe93b3ffdde94": {
          "model_module": "@jupyter-widgets/controls",
          "model_name": "FloatProgressModel",
          "model_module_version": "1.5.0",
          "state": {
            "_dom_classes": [],
            "_model_module": "@jupyter-widgets/controls",
            "_model_module_version": "1.5.0",
            "_model_name": "FloatProgressModel",
            "_view_count": null,
            "_view_module": "@jupyter-widgets/controls",
            "_view_module_version": "1.5.0",
            "_view_name": "ProgressView",
            "bar_style": "success",
            "description": "",
            "description_tooltip": null,
            "layout": "IPY_MODEL_21b7d584fd2d44d1bd7eed3140bb88b1",
            "max": 2213555,
            "min": 0,
            "orientation": "horizontal",
            "style": "IPY_MODEL_057c6e90cb8d4ceaa32ac1a53ad5d9d3",
            "value": 2213555
          }
        },
        "55cc303469a2428f9d4d18c5a75174db": {
          "model_module": "@jupyter-widgets/controls",
          "model_name": "HTMLModel",
          "model_module_version": "1.5.0",
          "state": {
            "_dom_classes": [],
            "_model_module": "@jupyter-widgets/controls",
            "_model_module_version": "1.5.0",
            "_model_name": "HTMLModel",
            "_view_count": null,
            "_view_module": "@jupyter-widgets/controls",
            "_view_module_version": "1.5.0",
            "_view_name": "HTMLView",
            "description": "",
            "description_tooltip": null,
            "layout": "IPY_MODEL_536d1eaa0e174d23903b6b89c894e0ef",
            "placeholder": "​",
            "style": "IPY_MODEL_37c18939ea77410ea3d61737874f7527",
            "value": " 2.21M/2.21M [00:00&lt;00:00, 72.3MB/s]"
          }
        },
        "a1bb3bfca3d14747bdfd178dd32d699b": {
          "model_module": "@jupyter-widgets/base",
          "model_name": "LayoutModel",
          "model_module_version": "1.2.0",
          "state": {
            "_model_module": "@jupyter-widgets/base",
            "_model_module_version": "1.2.0",
            "_model_name": "LayoutModel",
            "_view_count": null,
            "_view_module": "@jupyter-widgets/base",
            "_view_module_version": "1.2.0",
            "_view_name": "LayoutView",
            "align_content": null,
            "align_items": null,
            "align_self": null,
            "border": null,
            "bottom": null,
            "display": null,
            "flex": null,
            "flex_flow": null,
            "grid_area": null,
            "grid_auto_columns": null,
            "grid_auto_flow": null,
            "grid_auto_rows": null,
            "grid_column": null,
            "grid_gap": null,
            "grid_row": null,
            "grid_template_areas": null,
            "grid_template_columns": null,
            "grid_template_rows": null,
            "height": null,
            "justify_content": null,
            "justify_items": null,
            "left": null,
            "margin": null,
            "max_height": null,
            "max_width": null,
            "min_height": null,
            "min_width": null,
            "object_fit": null,
            "object_position": null,
            "order": null,
            "overflow": null,
            "overflow_x": null,
            "overflow_y": null,
            "padding": null,
            "right": null,
            "top": null,
            "visibility": null,
            "width": null
          }
        },
        "27ce5c00c3c0462ebe49a0a5d31a5541": {
          "model_module": "@jupyter-widgets/base",
          "model_name": "LayoutModel",
          "model_module_version": "1.2.0",
          "state": {
            "_model_module": "@jupyter-widgets/base",
            "_model_module_version": "1.2.0",
            "_model_name": "LayoutModel",
            "_view_count": null,
            "_view_module": "@jupyter-widgets/base",
            "_view_module_version": "1.2.0",
            "_view_name": "LayoutView",
            "align_content": null,
            "align_items": null,
            "align_self": null,
            "border": null,
            "bottom": null,
            "display": null,
            "flex": null,
            "flex_flow": null,
            "grid_area": null,
            "grid_auto_columns": null,
            "grid_auto_flow": null,
            "grid_auto_rows": null,
            "grid_column": null,
            "grid_gap": null,
            "grid_row": null,
            "grid_template_areas": null,
            "grid_template_columns": null,
            "grid_template_rows": null,
            "height": null,
            "justify_content": null,
            "justify_items": null,
            "left": null,
            "margin": null,
            "max_height": null,
            "max_width": null,
            "min_height": null,
            "min_width": null,
            "object_fit": null,
            "object_position": null,
            "order": null,
            "overflow": null,
            "overflow_x": null,
            "overflow_y": null,
            "padding": null,
            "right": null,
            "top": null,
            "visibility": null,
            "width": null
          }
        },
        "f8ccb1928e7d453dae0862ef1efa1f74": {
          "model_module": "@jupyter-widgets/controls",
          "model_name": "DescriptionStyleModel",
          "model_module_version": "1.5.0",
          "state": {
            "_model_module": "@jupyter-widgets/controls",
            "_model_module_version": "1.5.0",
            "_model_name": "DescriptionStyleModel",
            "_view_count": null,
            "_view_module": "@jupyter-widgets/base",
            "_view_module_version": "1.2.0",
            "_view_name": "StyleView",
            "description_width": ""
          }
        },
        "21b7d584fd2d44d1bd7eed3140bb88b1": {
          "model_module": "@jupyter-widgets/base",
          "model_name": "LayoutModel",
          "model_module_version": "1.2.0",
          "state": {
            "_model_module": "@jupyter-widgets/base",
            "_model_module_version": "1.2.0",
            "_model_name": "LayoutModel",
            "_view_count": null,
            "_view_module": "@jupyter-widgets/base",
            "_view_module_version": "1.2.0",
            "_view_name": "LayoutView",
            "align_content": null,
            "align_items": null,
            "align_self": null,
            "border": null,
            "bottom": null,
            "display": null,
            "flex": null,
            "flex_flow": null,
            "grid_area": null,
            "grid_auto_columns": null,
            "grid_auto_flow": null,
            "grid_auto_rows": null,
            "grid_column": null,
            "grid_gap": null,
            "grid_row": null,
            "grid_template_areas": null,
            "grid_template_columns": null,
            "grid_template_rows": null,
            "height": null,
            "justify_content": null,
            "justify_items": null,
            "left": null,
            "margin": null,
            "max_height": null,
            "max_width": null,
            "min_height": null,
            "min_width": null,
            "object_fit": null,
            "object_position": null,
            "order": null,
            "overflow": null,
            "overflow_x": null,
            "overflow_y": null,
            "padding": null,
            "right": null,
            "top": null,
            "visibility": null,
            "width": null
          }
        },
        "057c6e90cb8d4ceaa32ac1a53ad5d9d3": {
          "model_module": "@jupyter-widgets/controls",
          "model_name": "ProgressStyleModel",
          "model_module_version": "1.5.0",
          "state": {
            "_model_module": "@jupyter-widgets/controls",
            "_model_module_version": "1.5.0",
            "_model_name": "ProgressStyleModel",
            "_view_count": null,
            "_view_module": "@jupyter-widgets/base",
            "_view_module_version": "1.2.0",
            "_view_name": "StyleView",
            "bar_color": null,
            "description_width": ""
          }
        },
        "536d1eaa0e174d23903b6b89c894e0ef": {
          "model_module": "@jupyter-widgets/base",
          "model_name": "LayoutModel",
          "model_module_version": "1.2.0",
          "state": {
            "_model_module": "@jupyter-widgets/base",
            "_model_module_version": "1.2.0",
            "_model_name": "LayoutModel",
            "_view_count": null,
            "_view_module": "@jupyter-widgets/base",
            "_view_module_version": "1.2.0",
            "_view_name": "LayoutView",
            "align_content": null,
            "align_items": null,
            "align_self": null,
            "border": null,
            "bottom": null,
            "display": null,
            "flex": null,
            "flex_flow": null,
            "grid_area": null,
            "grid_auto_columns": null,
            "grid_auto_flow": null,
            "grid_auto_rows": null,
            "grid_column": null,
            "grid_gap": null,
            "grid_row": null,
            "grid_template_areas": null,
            "grid_template_columns": null,
            "grid_template_rows": null,
            "height": null,
            "justify_content": null,
            "justify_items": null,
            "left": null,
            "margin": null,
            "max_height": null,
            "max_width": null,
            "min_height": null,
            "min_width": null,
            "object_fit": null,
            "object_position": null,
            "order": null,
            "overflow": null,
            "overflow_x": null,
            "overflow_y": null,
            "padding": null,
            "right": null,
            "top": null,
            "visibility": null,
            "width": null
          }
        },
        "37c18939ea77410ea3d61737874f7527": {
          "model_module": "@jupyter-widgets/controls",
          "model_name": "DescriptionStyleModel",
          "model_module_version": "1.5.0",
          "state": {
            "_model_module": "@jupyter-widgets/controls",
            "_model_module_version": "1.5.0",
            "_model_name": "DescriptionStyleModel",
            "_view_count": null,
            "_view_module": "@jupyter-widgets/base",
            "_view_module_version": "1.2.0",
            "_view_name": "StyleView",
            "description_width": ""
          }
        },
        "77ddc16d6a0949e7b0228eeb3144c771": {
          "model_module": "@jupyter-widgets/controls",
          "model_name": "HBoxModel",
          "model_module_version": "1.5.0",
          "state": {
            "_dom_classes": [],
            "_model_module": "@jupyter-widgets/controls",
            "_model_module_version": "1.5.0",
            "_model_name": "HBoxModel",
            "_view_count": null,
            "_view_module": "@jupyter-widgets/controls",
            "_view_module_version": "1.5.0",
            "_view_name": "HBoxView",
            "box_style": "",
            "children": [
              "IPY_MODEL_c64f3487f5b745658c1e57181386d66a",
              "IPY_MODEL_f8af93d0645b4454baa8b07adafe8061",
              "IPY_MODEL_61b630b862e94372bf26f823cea5c6a1"
            ],
            "layout": "IPY_MODEL_060be8f4157645149c699405014e12e9"
          }
        },
        "c64f3487f5b745658c1e57181386d66a": {
          "model_module": "@jupyter-widgets/controls",
          "model_name": "HTMLModel",
          "model_module_version": "1.5.0",
          "state": {
            "_dom_classes": [],
            "_model_module": "@jupyter-widgets/controls",
            "_model_module_version": "1.5.0",
            "_model_name": "HTMLModel",
            "_view_count": null,
            "_view_module": "@jupyter-widgets/controls",
            "_view_module_version": "1.5.0",
            "_view_name": "HTMLView",
            "description": "",
            "description_tooltip": null,
            "layout": "IPY_MODEL_d6164040002b4f1994027bcbe5a69866",
            "placeholder": "​",
            "style": "IPY_MODEL_888e88b0b60840dfa0aa396ea2357dd4",
            "value": "special_tokens_map.json: 100%"
          }
        },
        "f8af93d0645b4454baa8b07adafe8061": {
          "model_module": "@jupyter-widgets/controls",
          "model_name": "FloatProgressModel",
          "model_module_version": "1.5.0",
          "state": {
            "_dom_classes": [],
            "_model_module": "@jupyter-widgets/controls",
            "_model_module_version": "1.5.0",
            "_model_name": "FloatProgressModel",
            "_view_count": null,
            "_view_module": "@jupyter-widgets/controls",
            "_view_module_version": "1.5.0",
            "_view_name": "ProgressView",
            "bar_style": "success",
            "description": "",
            "description_tooltip": null,
            "layout": "IPY_MODEL_2d97b06bfec742599cdfe7876ea8800c",
            "max": 957,
            "min": 0,
            "orientation": "horizontal",
            "style": "IPY_MODEL_f26efaee67564fc88d1e55f5a625fb43",
            "value": 957
          }
        },
        "61b630b862e94372bf26f823cea5c6a1": {
          "model_module": "@jupyter-widgets/controls",
          "model_name": "HTMLModel",
          "model_module_version": "1.5.0",
          "state": {
            "_dom_classes": [],
            "_model_module": "@jupyter-widgets/controls",
            "_model_module_version": "1.5.0",
            "_model_name": "HTMLModel",
            "_view_count": null,
            "_view_module": "@jupyter-widgets/controls",
            "_view_module_version": "1.5.0",
            "_view_name": "HTMLView",
            "description": "",
            "description_tooltip": null,
            "layout": "IPY_MODEL_f0ce298150d149c28d4b75d13e1ce353",
            "placeholder": "​",
            "style": "IPY_MODEL_4d3367e91bc84e73bebf45ad59c85bed",
            "value": " 957/957 [00:00&lt;00:00, 58.3kB/s]"
          }
        },
        "060be8f4157645149c699405014e12e9": {
          "model_module": "@jupyter-widgets/base",
          "model_name": "LayoutModel",
          "model_module_version": "1.2.0",
          "state": {
            "_model_module": "@jupyter-widgets/base",
            "_model_module_version": "1.2.0",
            "_model_name": "LayoutModel",
            "_view_count": null,
            "_view_module": "@jupyter-widgets/base",
            "_view_module_version": "1.2.0",
            "_view_name": "LayoutView",
            "align_content": null,
            "align_items": null,
            "align_self": null,
            "border": null,
            "bottom": null,
            "display": null,
            "flex": null,
            "flex_flow": null,
            "grid_area": null,
            "grid_auto_columns": null,
            "grid_auto_flow": null,
            "grid_auto_rows": null,
            "grid_column": null,
            "grid_gap": null,
            "grid_row": null,
            "grid_template_areas": null,
            "grid_template_columns": null,
            "grid_template_rows": null,
            "height": null,
            "justify_content": null,
            "justify_items": null,
            "left": null,
            "margin": null,
            "max_height": null,
            "max_width": null,
            "min_height": null,
            "min_width": null,
            "object_fit": null,
            "object_position": null,
            "order": null,
            "overflow": null,
            "overflow_x": null,
            "overflow_y": null,
            "padding": null,
            "right": null,
            "top": null,
            "visibility": null,
            "width": null
          }
        },
        "d6164040002b4f1994027bcbe5a69866": {
          "model_module": "@jupyter-widgets/base",
          "model_name": "LayoutModel",
          "model_module_version": "1.2.0",
          "state": {
            "_model_module": "@jupyter-widgets/base",
            "_model_module_version": "1.2.0",
            "_model_name": "LayoutModel",
            "_view_count": null,
            "_view_module": "@jupyter-widgets/base",
            "_view_module_version": "1.2.0",
            "_view_name": "LayoutView",
            "align_content": null,
            "align_items": null,
            "align_self": null,
            "border": null,
            "bottom": null,
            "display": null,
            "flex": null,
            "flex_flow": null,
            "grid_area": null,
            "grid_auto_columns": null,
            "grid_auto_flow": null,
            "grid_auto_rows": null,
            "grid_column": null,
            "grid_gap": null,
            "grid_row": null,
            "grid_template_areas": null,
            "grid_template_columns": null,
            "grid_template_rows": null,
            "height": null,
            "justify_content": null,
            "justify_items": null,
            "left": null,
            "margin": null,
            "max_height": null,
            "max_width": null,
            "min_height": null,
            "min_width": null,
            "object_fit": null,
            "object_position": null,
            "order": null,
            "overflow": null,
            "overflow_x": null,
            "overflow_y": null,
            "padding": null,
            "right": null,
            "top": null,
            "visibility": null,
            "width": null
          }
        },
        "888e88b0b60840dfa0aa396ea2357dd4": {
          "model_module": "@jupyter-widgets/controls",
          "model_name": "DescriptionStyleModel",
          "model_module_version": "1.5.0",
          "state": {
            "_model_module": "@jupyter-widgets/controls",
            "_model_module_version": "1.5.0",
            "_model_name": "DescriptionStyleModel",
            "_view_count": null,
            "_view_module": "@jupyter-widgets/base",
            "_view_module_version": "1.2.0",
            "_view_name": "StyleView",
            "description_width": ""
          }
        },
        "2d97b06bfec742599cdfe7876ea8800c": {
          "model_module": "@jupyter-widgets/base",
          "model_name": "LayoutModel",
          "model_module_version": "1.2.0",
          "state": {
            "_model_module": "@jupyter-widgets/base",
            "_model_module_version": "1.2.0",
            "_model_name": "LayoutModel",
            "_view_count": null,
            "_view_module": "@jupyter-widgets/base",
            "_view_module_version": "1.2.0",
            "_view_name": "LayoutView",
            "align_content": null,
            "align_items": null,
            "align_self": null,
            "border": null,
            "bottom": null,
            "display": null,
            "flex": null,
            "flex_flow": null,
            "grid_area": null,
            "grid_auto_columns": null,
            "grid_auto_flow": null,
            "grid_auto_rows": null,
            "grid_column": null,
            "grid_gap": null,
            "grid_row": null,
            "grid_template_areas": null,
            "grid_template_columns": null,
            "grid_template_rows": null,
            "height": null,
            "justify_content": null,
            "justify_items": null,
            "left": null,
            "margin": null,
            "max_height": null,
            "max_width": null,
            "min_height": null,
            "min_width": null,
            "object_fit": null,
            "object_position": null,
            "order": null,
            "overflow": null,
            "overflow_x": null,
            "overflow_y": null,
            "padding": null,
            "right": null,
            "top": null,
            "visibility": null,
            "width": null
          }
        },
        "f26efaee67564fc88d1e55f5a625fb43": {
          "model_module": "@jupyter-widgets/controls",
          "model_name": "ProgressStyleModel",
          "model_module_version": "1.5.0",
          "state": {
            "_model_module": "@jupyter-widgets/controls",
            "_model_module_version": "1.5.0",
            "_model_name": "ProgressStyleModel",
            "_view_count": null,
            "_view_module": "@jupyter-widgets/base",
            "_view_module_version": "1.2.0",
            "_view_name": "StyleView",
            "bar_color": null,
            "description_width": ""
          }
        },
        "f0ce298150d149c28d4b75d13e1ce353": {
          "model_module": "@jupyter-widgets/base",
          "model_name": "LayoutModel",
          "model_module_version": "1.2.0",
          "state": {
            "_model_module": "@jupyter-widgets/base",
            "_model_module_version": "1.2.0",
            "_model_name": "LayoutModel",
            "_view_count": null,
            "_view_module": "@jupyter-widgets/base",
            "_view_module_version": "1.2.0",
            "_view_name": "LayoutView",
            "align_content": null,
            "align_items": null,
            "align_self": null,
            "border": null,
            "bottom": null,
            "display": null,
            "flex": null,
            "flex_flow": null,
            "grid_area": null,
            "grid_auto_columns": null,
            "grid_auto_flow": null,
            "grid_auto_rows": null,
            "grid_column": null,
            "grid_gap": null,
            "grid_row": null,
            "grid_template_areas": null,
            "grid_template_columns": null,
            "grid_template_rows": null,
            "height": null,
            "justify_content": null,
            "justify_items": null,
            "left": null,
            "margin": null,
            "max_height": null,
            "max_width": null,
            "min_height": null,
            "min_width": null,
            "object_fit": null,
            "object_position": null,
            "order": null,
            "overflow": null,
            "overflow_x": null,
            "overflow_y": null,
            "padding": null,
            "right": null,
            "top": null,
            "visibility": null,
            "width": null
          }
        },
        "4d3367e91bc84e73bebf45ad59c85bed": {
          "model_module": "@jupyter-widgets/controls",
          "model_name": "DescriptionStyleModel",
          "model_module_version": "1.5.0",
          "state": {
            "_model_module": "@jupyter-widgets/controls",
            "_model_module_version": "1.5.0",
            "_model_name": "DescriptionStyleModel",
            "_view_count": null,
            "_view_module": "@jupyter-widgets/base",
            "_view_module_version": "1.2.0",
            "_view_name": "StyleView",
            "description_width": ""
          }
        },
        "18617189a1794a348cfb10bbd5214535": {
          "model_module": "@jupyter-widgets/controls",
          "model_name": "HBoxModel",
          "model_module_version": "1.5.0",
          "state": {
            "_dom_classes": [],
            "_model_module": "@jupyter-widgets/controls",
            "_model_module_version": "1.5.0",
            "_model_name": "HBoxModel",
            "_view_count": null,
            "_view_module": "@jupyter-widgets/controls",
            "_view_module_version": "1.5.0",
            "_view_name": "HBoxView",
            "box_style": "",
            "children": [
              "IPY_MODEL_937e39b69c2740fdbcdf7835e718d53e",
              "IPY_MODEL_ba2080867fa14a7eaccc31002ba0c57c",
              "IPY_MODEL_78647125a99a404a9b9545e851771441"
            ],
            "layout": "IPY_MODEL_a8cec013835b4040aa52b10ca86aae22"
          }
        },
        "937e39b69c2740fdbcdf7835e718d53e": {
          "model_module": "@jupyter-widgets/controls",
          "model_name": "HTMLModel",
          "model_module_version": "1.5.0",
          "state": {
            "_dom_classes": [],
            "_model_module": "@jupyter-widgets/controls",
            "_model_module_version": "1.5.0",
            "_model_name": "HTMLModel",
            "_view_count": null,
            "_view_module": "@jupyter-widgets/controls",
            "_view_module_version": "1.5.0",
            "_view_name": "HTMLView",
            "description": "",
            "description_tooltip": null,
            "layout": "IPY_MODEL_776ebac2874043cabedbd6b14feb2c76",
            "placeholder": "​",
            "style": "IPY_MODEL_b5d92154cee64c37b65bd37d2fc21025",
            "value": "config.json: 100%"
          }
        },
        "ba2080867fa14a7eaccc31002ba0c57c": {
          "model_module": "@jupyter-widgets/controls",
          "model_name": "FloatProgressModel",
          "model_module_version": "1.5.0",
          "state": {
            "_dom_classes": [],
            "_model_module": "@jupyter-widgets/controls",
            "_model_module_version": "1.5.0",
            "_model_name": "FloatProgressModel",
            "_view_count": null,
            "_view_module": "@jupyter-widgets/controls",
            "_view_module_version": "1.5.0",
            "_view_name": "ProgressView",
            "bar_style": "success",
            "description": "",
            "description_tooltip": null,
            "layout": "IPY_MODEL_96bbc5e792704baeb1cebf339eb1b385",
            "max": 613,
            "min": 0,
            "orientation": "horizontal",
            "style": "IPY_MODEL_4e7addf4cc8d42e690c74708e6353164",
            "value": 613
          }
        },
        "78647125a99a404a9b9545e851771441": {
          "model_module": "@jupyter-widgets/controls",
          "model_name": "HTMLModel",
          "model_module_version": "1.5.0",
          "state": {
            "_dom_classes": [],
            "_model_module": "@jupyter-widgets/controls",
            "_model_module_version": "1.5.0",
            "_model_name": "HTMLModel",
            "_view_count": null,
            "_view_module": "@jupyter-widgets/controls",
            "_view_module_version": "1.5.0",
            "_view_name": "HTMLView",
            "description": "",
            "description_tooltip": null,
            "layout": "IPY_MODEL_7c28aa40751e406cb20658e220e661f9",
            "placeholder": "​",
            "style": "IPY_MODEL_32ef0a17b32642b389005ec502617b56",
            "value": " 613/613 [00:00&lt;00:00, 43.5kB/s]"
          }
        },
        "a8cec013835b4040aa52b10ca86aae22": {
          "model_module": "@jupyter-widgets/base",
          "model_name": "LayoutModel",
          "model_module_version": "1.2.0",
          "state": {
            "_model_module": "@jupyter-widgets/base",
            "_model_module_version": "1.2.0",
            "_model_name": "LayoutModel",
            "_view_count": null,
            "_view_module": "@jupyter-widgets/base",
            "_view_module_version": "1.2.0",
            "_view_name": "LayoutView",
            "align_content": null,
            "align_items": null,
            "align_self": null,
            "border": null,
            "bottom": null,
            "display": null,
            "flex": null,
            "flex_flow": null,
            "grid_area": null,
            "grid_auto_columns": null,
            "grid_auto_flow": null,
            "grid_auto_rows": null,
            "grid_column": null,
            "grid_gap": null,
            "grid_row": null,
            "grid_template_areas": null,
            "grid_template_columns": null,
            "grid_template_rows": null,
            "height": null,
            "justify_content": null,
            "justify_items": null,
            "left": null,
            "margin": null,
            "max_height": null,
            "max_width": null,
            "min_height": null,
            "min_width": null,
            "object_fit": null,
            "object_position": null,
            "order": null,
            "overflow": null,
            "overflow_x": null,
            "overflow_y": null,
            "padding": null,
            "right": null,
            "top": null,
            "visibility": null,
            "width": null
          }
        },
        "776ebac2874043cabedbd6b14feb2c76": {
          "model_module": "@jupyter-widgets/base",
          "model_name": "LayoutModel",
          "model_module_version": "1.2.0",
          "state": {
            "_model_module": "@jupyter-widgets/base",
            "_model_module_version": "1.2.0",
            "_model_name": "LayoutModel",
            "_view_count": null,
            "_view_module": "@jupyter-widgets/base",
            "_view_module_version": "1.2.0",
            "_view_name": "LayoutView",
            "align_content": null,
            "align_items": null,
            "align_self": null,
            "border": null,
            "bottom": null,
            "display": null,
            "flex": null,
            "flex_flow": null,
            "grid_area": null,
            "grid_auto_columns": null,
            "grid_auto_flow": null,
            "grid_auto_rows": null,
            "grid_column": null,
            "grid_gap": null,
            "grid_row": null,
            "grid_template_areas": null,
            "grid_template_columns": null,
            "grid_template_rows": null,
            "height": null,
            "justify_content": null,
            "justify_items": null,
            "left": null,
            "margin": null,
            "max_height": null,
            "max_width": null,
            "min_height": null,
            "min_width": null,
            "object_fit": null,
            "object_position": null,
            "order": null,
            "overflow": null,
            "overflow_x": null,
            "overflow_y": null,
            "padding": null,
            "right": null,
            "top": null,
            "visibility": null,
            "width": null
          }
        },
        "b5d92154cee64c37b65bd37d2fc21025": {
          "model_module": "@jupyter-widgets/controls",
          "model_name": "DescriptionStyleModel",
          "model_module_version": "1.5.0",
          "state": {
            "_model_module": "@jupyter-widgets/controls",
            "_model_module_version": "1.5.0",
            "_model_name": "DescriptionStyleModel",
            "_view_count": null,
            "_view_module": "@jupyter-widgets/base",
            "_view_module_version": "1.2.0",
            "_view_name": "StyleView",
            "description_width": ""
          }
        },
        "96bbc5e792704baeb1cebf339eb1b385": {
          "model_module": "@jupyter-widgets/base",
          "model_name": "LayoutModel",
          "model_module_version": "1.2.0",
          "state": {
            "_model_module": "@jupyter-widgets/base",
            "_model_module_version": "1.2.0",
            "_model_name": "LayoutModel",
            "_view_count": null,
            "_view_module": "@jupyter-widgets/base",
            "_view_module_version": "1.2.0",
            "_view_name": "LayoutView",
            "align_content": null,
            "align_items": null,
            "align_self": null,
            "border": null,
            "bottom": null,
            "display": null,
            "flex": null,
            "flex_flow": null,
            "grid_area": null,
            "grid_auto_columns": null,
            "grid_auto_flow": null,
            "grid_auto_rows": null,
            "grid_column": null,
            "grid_gap": null,
            "grid_row": null,
            "grid_template_areas": null,
            "grid_template_columns": null,
            "grid_template_rows": null,
            "height": null,
            "justify_content": null,
            "justify_items": null,
            "left": null,
            "margin": null,
            "max_height": null,
            "max_width": null,
            "min_height": null,
            "min_width": null,
            "object_fit": null,
            "object_position": null,
            "order": null,
            "overflow": null,
            "overflow_x": null,
            "overflow_y": null,
            "padding": null,
            "right": null,
            "top": null,
            "visibility": null,
            "width": null
          }
        },
        "4e7addf4cc8d42e690c74708e6353164": {
          "model_module": "@jupyter-widgets/controls",
          "model_name": "ProgressStyleModel",
          "model_module_version": "1.5.0",
          "state": {
            "_model_module": "@jupyter-widgets/controls",
            "_model_module_version": "1.5.0",
            "_model_name": "ProgressStyleModel",
            "_view_count": null,
            "_view_module": "@jupyter-widgets/base",
            "_view_module_version": "1.2.0",
            "_view_name": "StyleView",
            "bar_color": null,
            "description_width": ""
          }
        },
        "7c28aa40751e406cb20658e220e661f9": {
          "model_module": "@jupyter-widgets/base",
          "model_name": "LayoutModel",
          "model_module_version": "1.2.0",
          "state": {
            "_model_module": "@jupyter-widgets/base",
            "_model_module_version": "1.2.0",
            "_model_name": "LayoutModel",
            "_view_count": null,
            "_view_module": "@jupyter-widgets/base",
            "_view_module_version": "1.2.0",
            "_view_name": "LayoutView",
            "align_content": null,
            "align_items": null,
            "align_self": null,
            "border": null,
            "bottom": null,
            "display": null,
            "flex": null,
            "flex_flow": null,
            "grid_area": null,
            "grid_auto_columns": null,
            "grid_auto_flow": null,
            "grid_auto_rows": null,
            "grid_column": null,
            "grid_gap": null,
            "grid_row": null,
            "grid_template_areas": null,
            "grid_template_columns": null,
            "grid_template_rows": null,
            "height": null,
            "justify_content": null,
            "justify_items": null,
            "left": null,
            "margin": null,
            "max_height": null,
            "max_width": null,
            "min_height": null,
            "min_width": null,
            "object_fit": null,
            "object_position": null,
            "order": null,
            "overflow": null,
            "overflow_x": null,
            "overflow_y": null,
            "padding": null,
            "right": null,
            "top": null,
            "visibility": null,
            "width": null
          }
        },
        "32ef0a17b32642b389005ec502617b56": {
          "model_module": "@jupyter-widgets/controls",
          "model_name": "DescriptionStyleModel",
          "model_module_version": "1.5.0",
          "state": {
            "_model_module": "@jupyter-widgets/controls",
            "_model_module_version": "1.5.0",
            "_model_name": "DescriptionStyleModel",
            "_view_count": null,
            "_view_module": "@jupyter-widgets/base",
            "_view_module_version": "1.2.0",
            "_view_name": "StyleView",
            "description_width": ""
          }
        },
        "c606c39ca4a2490aab1ec5804c749aed": {
          "model_module": "@jupyter-widgets/controls",
          "model_name": "HBoxModel",
          "model_module_version": "1.5.0",
          "state": {
            "_dom_classes": [],
            "_model_module": "@jupyter-widgets/controls",
            "_model_module_version": "1.5.0",
            "_model_name": "HBoxModel",
            "_view_count": null,
            "_view_module": "@jupyter-widgets/controls",
            "_view_module_version": "1.5.0",
            "_view_name": "HBoxView",
            "box_style": "",
            "children": [
              "IPY_MODEL_ebebcb8a5586429da24d8c380b76667f",
              "IPY_MODEL_993694704ad24fa4bcc2313ffaa40e05",
              "IPY_MODEL_8f57bfff5e6641f8900e7badf76a29d5"
            ],
            "layout": "IPY_MODEL_ff70e2f80cc54d25b9c85e56ae61c876"
          }
        },
        "ebebcb8a5586429da24d8c380b76667f": {
          "model_module": "@jupyter-widgets/controls",
          "model_name": "HTMLModel",
          "model_module_version": "1.5.0",
          "state": {
            "_dom_classes": [],
            "_model_module": "@jupyter-widgets/controls",
            "_model_module_version": "1.5.0",
            "_model_name": "HTMLModel",
            "_view_count": null,
            "_view_module": "@jupyter-widgets/controls",
            "_view_module_version": "1.5.0",
            "_view_name": "HTMLView",
            "description": "",
            "description_tooltip": null,
            "layout": "IPY_MODEL_e1a97bbb847a406b9bc7fea72ea76145",
            "placeholder": "​",
            "style": "IPY_MODEL_58bc6ea66bdf480a90dae508a1ea3445",
            "value": "pytorch_model.bin: 100%"
          }
        },
        "993694704ad24fa4bcc2313ffaa40e05": {
          "model_module": "@jupyter-widgets/controls",
          "model_name": "FloatProgressModel",
          "model_module_version": "1.5.0",
          "state": {
            "_dom_classes": [],
            "_model_module": "@jupyter-widgets/controls",
            "_model_module_version": "1.5.0",
            "_model_name": "FloatProgressModel",
            "_view_count": null,
            "_view_module": "@jupyter-widgets/controls",
            "_view_module_version": "1.5.0",
            "_view_name": "ProgressView",
            "bar_style": "success",
            "description": "",
            "description_tooltip": null,
            "layout": "IPY_MODEL_80158e4669de44f5ac14d2687a947edd",
            "max": 499069583,
            "min": 0,
            "orientation": "horizontal",
            "style": "IPY_MODEL_7fed124f837842d0afefe9c98e153158",
            "value": 499069583
          }
        },
        "8f57bfff5e6641f8900e7badf76a29d5": {
          "model_module": "@jupyter-widgets/controls",
          "model_name": "HTMLModel",
          "model_module_version": "1.5.0",
          "state": {
            "_dom_classes": [],
            "_model_module": "@jupyter-widgets/controls",
            "_model_module_version": "1.5.0",
            "_model_name": "HTMLModel",
            "_view_count": null,
            "_view_module": "@jupyter-widgets/controls",
            "_view_module_version": "1.5.0",
            "_view_name": "HTMLView",
            "description": "",
            "description_tooltip": null,
            "layout": "IPY_MODEL_c3d946f1144c4fb2a0d5eae78e501bb3",
            "placeholder": "​",
            "style": "IPY_MODEL_9ca116f7e63440e8aac4c42e144fb7d4",
            "value": " 499M/499M [00:07&lt;00:00, 136MB/s]"
          }
        },
        "ff70e2f80cc54d25b9c85e56ae61c876": {
          "model_module": "@jupyter-widgets/base",
          "model_name": "LayoutModel",
          "model_module_version": "1.2.0",
          "state": {
            "_model_module": "@jupyter-widgets/base",
            "_model_module_version": "1.2.0",
            "_model_name": "LayoutModel",
            "_view_count": null,
            "_view_module": "@jupyter-widgets/base",
            "_view_module_version": "1.2.0",
            "_view_name": "LayoutView",
            "align_content": null,
            "align_items": null,
            "align_self": null,
            "border": null,
            "bottom": null,
            "display": null,
            "flex": null,
            "flex_flow": null,
            "grid_area": null,
            "grid_auto_columns": null,
            "grid_auto_flow": null,
            "grid_auto_rows": null,
            "grid_column": null,
            "grid_gap": null,
            "grid_row": null,
            "grid_template_areas": null,
            "grid_template_columns": null,
            "grid_template_rows": null,
            "height": null,
            "justify_content": null,
            "justify_items": null,
            "left": null,
            "margin": null,
            "max_height": null,
            "max_width": null,
            "min_height": null,
            "min_width": null,
            "object_fit": null,
            "object_position": null,
            "order": null,
            "overflow": null,
            "overflow_x": null,
            "overflow_y": null,
            "padding": null,
            "right": null,
            "top": null,
            "visibility": null,
            "width": null
          }
        },
        "e1a97bbb847a406b9bc7fea72ea76145": {
          "model_module": "@jupyter-widgets/base",
          "model_name": "LayoutModel",
          "model_module_version": "1.2.0",
          "state": {
            "_model_module": "@jupyter-widgets/base",
            "_model_module_version": "1.2.0",
            "_model_name": "LayoutModel",
            "_view_count": null,
            "_view_module": "@jupyter-widgets/base",
            "_view_module_version": "1.2.0",
            "_view_name": "LayoutView",
            "align_content": null,
            "align_items": null,
            "align_self": null,
            "border": null,
            "bottom": null,
            "display": null,
            "flex": null,
            "flex_flow": null,
            "grid_area": null,
            "grid_auto_columns": null,
            "grid_auto_flow": null,
            "grid_auto_rows": null,
            "grid_column": null,
            "grid_gap": null,
            "grid_row": null,
            "grid_template_areas": null,
            "grid_template_columns": null,
            "grid_template_rows": null,
            "height": null,
            "justify_content": null,
            "justify_items": null,
            "left": null,
            "margin": null,
            "max_height": null,
            "max_width": null,
            "min_height": null,
            "min_width": null,
            "object_fit": null,
            "object_position": null,
            "order": null,
            "overflow": null,
            "overflow_x": null,
            "overflow_y": null,
            "padding": null,
            "right": null,
            "top": null,
            "visibility": null,
            "width": null
          }
        },
        "58bc6ea66bdf480a90dae508a1ea3445": {
          "model_module": "@jupyter-widgets/controls",
          "model_name": "DescriptionStyleModel",
          "model_module_version": "1.5.0",
          "state": {
            "_model_module": "@jupyter-widgets/controls",
            "_model_module_version": "1.5.0",
            "_model_name": "DescriptionStyleModel",
            "_view_count": null,
            "_view_module": "@jupyter-widgets/base",
            "_view_module_version": "1.2.0",
            "_view_name": "StyleView",
            "description_width": ""
          }
        },
        "80158e4669de44f5ac14d2687a947edd": {
          "model_module": "@jupyter-widgets/base",
          "model_name": "LayoutModel",
          "model_module_version": "1.2.0",
          "state": {
            "_model_module": "@jupyter-widgets/base",
            "_model_module_version": "1.2.0",
            "_model_name": "LayoutModel",
            "_view_count": null,
            "_view_module": "@jupyter-widgets/base",
            "_view_module_version": "1.2.0",
            "_view_name": "LayoutView",
            "align_content": null,
            "align_items": null,
            "align_self": null,
            "border": null,
            "bottom": null,
            "display": null,
            "flex": null,
            "flex_flow": null,
            "grid_area": null,
            "grid_auto_columns": null,
            "grid_auto_flow": null,
            "grid_auto_rows": null,
            "grid_column": null,
            "grid_gap": null,
            "grid_row": null,
            "grid_template_areas": null,
            "grid_template_columns": null,
            "grid_template_rows": null,
            "height": null,
            "justify_content": null,
            "justify_items": null,
            "left": null,
            "margin": null,
            "max_height": null,
            "max_width": null,
            "min_height": null,
            "min_width": null,
            "object_fit": null,
            "object_position": null,
            "order": null,
            "overflow": null,
            "overflow_x": null,
            "overflow_y": null,
            "padding": null,
            "right": null,
            "top": null,
            "visibility": null,
            "width": null
          }
        },
        "7fed124f837842d0afefe9c98e153158": {
          "model_module": "@jupyter-widgets/controls",
          "model_name": "ProgressStyleModel",
          "model_module_version": "1.5.0",
          "state": {
            "_model_module": "@jupyter-widgets/controls",
            "_model_module_version": "1.5.0",
            "_model_name": "ProgressStyleModel",
            "_view_count": null,
            "_view_module": "@jupyter-widgets/base",
            "_view_module_version": "1.2.0",
            "_view_name": "StyleView",
            "bar_color": null,
            "description_width": ""
          }
        },
        "c3d946f1144c4fb2a0d5eae78e501bb3": {
          "model_module": "@jupyter-widgets/base",
          "model_name": "LayoutModel",
          "model_module_version": "1.2.0",
          "state": {
            "_model_module": "@jupyter-widgets/base",
            "_model_module_version": "1.2.0",
            "_model_name": "LayoutModel",
            "_view_count": null,
            "_view_module": "@jupyter-widgets/base",
            "_view_module_version": "1.2.0",
            "_view_name": "LayoutView",
            "align_content": null,
            "align_items": null,
            "align_self": null,
            "border": null,
            "bottom": null,
            "display": null,
            "flex": null,
            "flex_flow": null,
            "grid_area": null,
            "grid_auto_columns": null,
            "grid_auto_flow": null,
            "grid_auto_rows": null,
            "grid_column": null,
            "grid_gap": null,
            "grid_row": null,
            "grid_template_areas": null,
            "grid_template_columns": null,
            "grid_template_rows": null,
            "height": null,
            "justify_content": null,
            "justify_items": null,
            "left": null,
            "margin": null,
            "max_height": null,
            "max_width": null,
            "min_height": null,
            "min_width": null,
            "object_fit": null,
            "object_position": null,
            "order": null,
            "overflow": null,
            "overflow_x": null,
            "overflow_y": null,
            "padding": null,
            "right": null,
            "top": null,
            "visibility": null,
            "width": null
          }
        },
        "9ca116f7e63440e8aac4c42e144fb7d4": {
          "model_module": "@jupyter-widgets/controls",
          "model_name": "DescriptionStyleModel",
          "model_module_version": "1.5.0",
          "state": {
            "_model_module": "@jupyter-widgets/controls",
            "_model_module_version": "1.5.0",
            "_model_name": "DescriptionStyleModel",
            "_view_count": null,
            "_view_module": "@jupyter-widgets/base",
            "_view_module_version": "1.2.0",
            "_view_name": "StyleView",
            "description_width": ""
          }
        },
        "c5330e3518164bd6abee0fc307f98de3": {
          "model_module": "@jupyter-widgets/controls",
          "model_name": "HBoxModel",
          "model_module_version": "1.5.0",
          "state": {
            "_dom_classes": [],
            "_model_module": "@jupyter-widgets/controls",
            "_model_module_version": "1.5.0",
            "_model_name": "HBoxModel",
            "_view_count": null,
            "_view_module": "@jupyter-widgets/controls",
            "_view_module_version": "1.5.0",
            "_view_name": "HBoxView",
            "box_style": "",
            "children": [
              "IPY_MODEL_d2bc75b074c14806a39dfcb7e0f82364",
              "IPY_MODEL_f1882e001d5d44aea222c84f42220026",
              "IPY_MODEL_50705c6b356a4b7ab6ec998433e6b720"
            ],
            "layout": "IPY_MODEL_c3a3de9d2e5548d3a4481884b1b45ed1"
          }
        },
        "d2bc75b074c14806a39dfcb7e0f82364": {
          "model_module": "@jupyter-widgets/controls",
          "model_name": "HTMLModel",
          "model_module_version": "1.5.0",
          "state": {
            "_dom_classes": [],
            "_model_module": "@jupyter-widgets/controls",
            "_model_module_version": "1.5.0",
            "_model_name": "HTMLModel",
            "_view_count": null,
            "_view_module": "@jupyter-widgets/controls",
            "_view_module_version": "1.5.0",
            "_view_name": "HTMLView",
            "description": "",
            "description_tooltip": null,
            "layout": "IPY_MODEL_dd5a09ef13694f458da17d2acba31947",
            "placeholder": "​",
            "style": "IPY_MODEL_243ab88126514f16b4680f7025985a77",
            "value": "model.safetensors: 100%"
          }
        },
        "f1882e001d5d44aea222c84f42220026": {
          "model_module": "@jupyter-widgets/controls",
          "model_name": "FloatProgressModel",
          "model_module_version": "1.5.0",
          "state": {
            "_dom_classes": [],
            "_model_module": "@jupyter-widgets/controls",
            "_model_module_version": "1.5.0",
            "_model_name": "FloatProgressModel",
            "_view_count": null,
            "_view_module": "@jupyter-widgets/controls",
            "_view_module_version": "1.5.0",
            "_view_name": "ProgressView",
            "bar_style": "success",
            "description": "",
            "description_tooltip": null,
            "layout": "IPY_MODEL_193a5c6bf9d84a7cb6e4676aee86a040",
            "max": 499010056,
            "min": 0,
            "orientation": "horizontal",
            "style": "IPY_MODEL_cba58a2cf77e49e0b96c89f55d60afae",
            "value": 499010056
          }
        },
        "50705c6b356a4b7ab6ec998433e6b720": {
          "model_module": "@jupyter-widgets/controls",
          "model_name": "HTMLModel",
          "model_module_version": "1.5.0",
          "state": {
            "_dom_classes": [],
            "_model_module": "@jupyter-widgets/controls",
            "_model_module_version": "1.5.0",
            "_model_name": "HTMLModel",
            "_view_count": null,
            "_view_module": "@jupyter-widgets/controls",
            "_view_module_version": "1.5.0",
            "_view_name": "HTMLView",
            "description": "",
            "description_tooltip": null,
            "layout": "IPY_MODEL_ce67a6e6c05e42cf9fb561c2b1eb74f8",
            "placeholder": "​",
            "style": "IPY_MODEL_b6088f151c884d0fab355e2b48db08e8",
            "value": " 499M/499M [00:04&lt;00:00, 122MB/s]"
          }
        },
        "c3a3de9d2e5548d3a4481884b1b45ed1": {
          "model_module": "@jupyter-widgets/base",
          "model_name": "LayoutModel",
          "model_module_version": "1.2.0",
          "state": {
            "_model_module": "@jupyter-widgets/base",
            "_model_module_version": "1.2.0",
            "_model_name": "LayoutModel",
            "_view_count": null,
            "_view_module": "@jupyter-widgets/base",
            "_view_module_version": "1.2.0",
            "_view_name": "LayoutView",
            "align_content": null,
            "align_items": null,
            "align_self": null,
            "border": null,
            "bottom": null,
            "display": null,
            "flex": null,
            "flex_flow": null,
            "grid_area": null,
            "grid_auto_columns": null,
            "grid_auto_flow": null,
            "grid_auto_rows": null,
            "grid_column": null,
            "grid_gap": null,
            "grid_row": null,
            "grid_template_areas": null,
            "grid_template_columns": null,
            "grid_template_rows": null,
            "height": null,
            "justify_content": null,
            "justify_items": null,
            "left": null,
            "margin": null,
            "max_height": null,
            "max_width": null,
            "min_height": null,
            "min_width": null,
            "object_fit": null,
            "object_position": null,
            "order": null,
            "overflow": null,
            "overflow_x": null,
            "overflow_y": null,
            "padding": null,
            "right": null,
            "top": null,
            "visibility": null,
            "width": null
          }
        },
        "dd5a09ef13694f458da17d2acba31947": {
          "model_module": "@jupyter-widgets/base",
          "model_name": "LayoutModel",
          "model_module_version": "1.2.0",
          "state": {
            "_model_module": "@jupyter-widgets/base",
            "_model_module_version": "1.2.0",
            "_model_name": "LayoutModel",
            "_view_count": null,
            "_view_module": "@jupyter-widgets/base",
            "_view_module_version": "1.2.0",
            "_view_name": "LayoutView",
            "align_content": null,
            "align_items": null,
            "align_self": null,
            "border": null,
            "bottom": null,
            "display": null,
            "flex": null,
            "flex_flow": null,
            "grid_area": null,
            "grid_auto_columns": null,
            "grid_auto_flow": null,
            "grid_auto_rows": null,
            "grid_column": null,
            "grid_gap": null,
            "grid_row": null,
            "grid_template_areas": null,
            "grid_template_columns": null,
            "grid_template_rows": null,
            "height": null,
            "justify_content": null,
            "justify_items": null,
            "left": null,
            "margin": null,
            "max_height": null,
            "max_width": null,
            "min_height": null,
            "min_width": null,
            "object_fit": null,
            "object_position": null,
            "order": null,
            "overflow": null,
            "overflow_x": null,
            "overflow_y": null,
            "padding": null,
            "right": null,
            "top": null,
            "visibility": null,
            "width": null
          }
        },
        "243ab88126514f16b4680f7025985a77": {
          "model_module": "@jupyter-widgets/controls",
          "model_name": "DescriptionStyleModel",
          "model_module_version": "1.5.0",
          "state": {
            "_model_module": "@jupyter-widgets/controls",
            "_model_module_version": "1.5.0",
            "_model_name": "DescriptionStyleModel",
            "_view_count": null,
            "_view_module": "@jupyter-widgets/base",
            "_view_module_version": "1.2.0",
            "_view_name": "StyleView",
            "description_width": ""
          }
        },
        "193a5c6bf9d84a7cb6e4676aee86a040": {
          "model_module": "@jupyter-widgets/base",
          "model_name": "LayoutModel",
          "model_module_version": "1.2.0",
          "state": {
            "_model_module": "@jupyter-widgets/base",
            "_model_module_version": "1.2.0",
            "_model_name": "LayoutModel",
            "_view_count": null,
            "_view_module": "@jupyter-widgets/base",
            "_view_module_version": "1.2.0",
            "_view_name": "LayoutView",
            "align_content": null,
            "align_items": null,
            "align_self": null,
            "border": null,
            "bottom": null,
            "display": null,
            "flex": null,
            "flex_flow": null,
            "grid_area": null,
            "grid_auto_columns": null,
            "grid_auto_flow": null,
            "grid_auto_rows": null,
            "grid_column": null,
            "grid_gap": null,
            "grid_row": null,
            "grid_template_areas": null,
            "grid_template_columns": null,
            "grid_template_rows": null,
            "height": null,
            "justify_content": null,
            "justify_items": null,
            "left": null,
            "margin": null,
            "max_height": null,
            "max_width": null,
            "min_height": null,
            "min_width": null,
            "object_fit": null,
            "object_position": null,
            "order": null,
            "overflow": null,
            "overflow_x": null,
            "overflow_y": null,
            "padding": null,
            "right": null,
            "top": null,
            "visibility": null,
            "width": null
          }
        },
        "cba58a2cf77e49e0b96c89f55d60afae": {
          "model_module": "@jupyter-widgets/controls",
          "model_name": "ProgressStyleModel",
          "model_module_version": "1.5.0",
          "state": {
            "_model_module": "@jupyter-widgets/controls",
            "_model_module_version": "1.5.0",
            "_model_name": "ProgressStyleModel",
            "_view_count": null,
            "_view_module": "@jupyter-widgets/base",
            "_view_module_version": "1.2.0",
            "_view_name": "StyleView",
            "bar_color": null,
            "description_width": ""
          }
        },
        "ce67a6e6c05e42cf9fb561c2b1eb74f8": {
          "model_module": "@jupyter-widgets/base",
          "model_name": "LayoutModel",
          "model_module_version": "1.2.0",
          "state": {
            "_model_module": "@jupyter-widgets/base",
            "_model_module_version": "1.2.0",
            "_model_name": "LayoutModel",
            "_view_count": null,
            "_view_module": "@jupyter-widgets/base",
            "_view_module_version": "1.2.0",
            "_view_name": "LayoutView",
            "align_content": null,
            "align_items": null,
            "align_self": null,
            "border": null,
            "bottom": null,
            "display": null,
            "flex": null,
            "flex_flow": null,
            "grid_area": null,
            "grid_auto_columns": null,
            "grid_auto_flow": null,
            "grid_auto_rows": null,
            "grid_column": null,
            "grid_gap": null,
            "grid_row": null,
            "grid_template_areas": null,
            "grid_template_columns": null,
            "grid_template_rows": null,
            "height": null,
            "justify_content": null,
            "justify_items": null,
            "left": null,
            "margin": null,
            "max_height": null,
            "max_width": null,
            "min_height": null,
            "min_width": null,
            "object_fit": null,
            "object_position": null,
            "order": null,
            "overflow": null,
            "overflow_x": null,
            "overflow_y": null,
            "padding": null,
            "right": null,
            "top": null,
            "visibility": null,
            "width": null
          }
        },
        "b6088f151c884d0fab355e2b48db08e8": {
          "model_module": "@jupyter-widgets/controls",
          "model_name": "DescriptionStyleModel",
          "model_module_version": "1.5.0",
          "state": {
            "_model_module": "@jupyter-widgets/controls",
            "_model_module_version": "1.5.0",
            "_model_name": "DescriptionStyleModel",
            "_view_count": null,
            "_view_module": "@jupyter-widgets/base",
            "_view_module_version": "1.2.0",
            "_view_name": "StyleView",
            "description_width": ""
          }
        }
      }
    }
  },
  "nbformat": 4,
  "nbformat_minor": 0
}